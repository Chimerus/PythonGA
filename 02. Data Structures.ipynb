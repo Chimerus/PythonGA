{
 "cells": [
  {
   "cell_type": "code",
   "execution_count": 6,
   "metadata": {
    "id": "_vkgKFedU5kR"
   },
   "outputs": [
    {
     "name": "stdout",
     "output_type": "stream",
     "text": [
      "The colors of the rainbow are red, orange, yellow, green, blue, indigo, and violet.\n",
      "Blood Red\n",
      "Seafoam Green\n",
      "['Blood Red', 'orange', 'yellow', 'Seafoam Green', 'blue', 'indigo', 'violet']\n"
     ]
    }
   ],
   "source": [
    "# 2.1 Colors of the Rainbow\n",
    "# A. Make a list called colors that stores 7 strings, each a color of the rainbow\n",
    "colors = ['red', 'orange', 'yellow', 'green', 'blue', 'indigo', 'violet']\n",
    "\n",
    "# B. Then, print the following string, using list indices to access the specific colors:\n",
    "# \"The colors of the rainbow are red, orange, yellow, green, blue, indigo, and violet.\"\n",
    "#  String concatenation might get a bit complex to read: try using an f-string for string interpolation!\n",
    "print(f\"The colors of the rainbow are {colors[0]}, {colors[1]}, {colors[2]}, {colors[3]}, {colors[4]}, {colors[5]}, and {colors[6]}.\")\n",
    "\n",
    "# C. Change two of the colors to more descriptive names, such as \"Lightning Yellow\" or \"Deep Sea Blue\"\n",
    "colors[0] = \"Blood Red\"\n",
    "colors[3] = \"Seafoam Green\"\n",
    "\n",
    "# D. Print the two new color names using list indices to access them\n",
    "print(colors[0])\n",
    "print(colors[3])\n",
    "\n",
    "# E. Print the colors variable to see the difference between printing a specific item and printing the list itself\n",
    "print(colors)\n"
   ]
  },
  {
   "cell_type": "code",
   "execution_count": 32,
   "metadata": {
    "id": "R2igoO3aU5kT"
   },
   "outputs": [
    {
     "name": "stdout",
     "output_type": "stream",
     "text": [
      "Boris is number 3 in the list\n",
      "['Alyce', 'DeSean', 'Boris', 'Diego']\n"
     ]
    }
   ],
   "source": [
    "# 2.2 The Wait List\n",
    "# You will have to research some new methods to use for these challenges\n",
    "# You can use print statements to investigate whether your changes have succeeded as expected\n",
    "candidates = [\"Alice\", \"Boris\", \"Carmen\"]\n",
    "\n",
    "# A. A promising new applicant, Diego, needs to be added to the end of the list\\\n",
    "candidates.append(\"Diego\")\n",
    "\n",
    "# B. Alice has informed us of a typo on their application: change their name to \"Alyce\"\n",
    "candidates[0] = \"Alyce\"\n",
    "\n",
    "# C. One of our generous donors has a nephew, Aaron, who should be added to the very front of the list\n",
    "candidates.insert(0, \"Aaron\")\n",
    "\n",
    "# D. Boris's parents are concerned. Use the .index() method to print a message explaining Boris's place in the list\n",
    "print(f\"Boris is number {candidates.index(\"Boris\") + 1} in the list\")\n",
    "\n",
    "# E. Carmen is upset by the priority given to relatives of donors, and has withdrawn their application.\n",
    "#    Use the .remove() method to remove them from the list.\n",
    "candidates.remove(\"Carmen\")\n",
    "\n",
    "# F. Use a method to remove the very first student in the list, as they have now been accepted!\n",
    "candidates.pop(0)\n",
    "\n",
    "# G. DeSean has submitted an impressive personal statement. Place them at index 1 by using .insert()\n",
    "candidates.insert(1, \"DeSean\")\n",
    "\n",
    "# H. We've been audited by the Board for Educational Fairness! Print the list of candidates.\n",
    "#    It should look like this: [\"Alyce\", \"DeSean\", Boris\", \"Diego\"]\n",
    "print(candidates)\n"
   ]
  },
  {
   "cell_type": "code",
   "execution_count": 44,
   "metadata": {
    "id": "M8gq-Ps6U5kV"
   },
   "outputs": [
    {
     "name": "stdout",
     "output_type": "stream",
     "text": [
      "This 3 bedroom house costs 250000\n",
      "The price per square foot is 366.67\n",
      "{'address': '123 Fake Street', 'price': 275000.0, 'bedrooms': 3, 'zip_code': '95404', 'square_feet': 750, 'status': 'sold'}\n"
     ]
    }
   ],
   "source": [
    "# 2.3 Key Value Properties\n",
    "# Use the house dictionary for the following challenges\n",
    "house = { \"address\": \"123 Fake Street\", \"price\": 250000, \"bedrooms\": 3}\n",
    "\n",
    "# A. Buyers can't find the house without a zip code! Add a zip_code property equal to \"95404\"\n",
    "house[\"zip_code\"] = \"95404\"\n",
    "\n",
    "# B. Our web designers want a statement reading: \"This 3 bedroom house costs 250000\"\n",
    "#    Print that statement by accessing the values from the dictionary: do NOT \"hard-code\" the string!\n",
    "print(f\"This {house['bedrooms']} bedroom house costs {house['price']}\")\n",
    "# C. We're getting a lot of interest in the house! Let's increase the price by 10%\n",
    "house['price'] *= 1.10\n",
    "\n",
    "# D. Buyers are surprised at how small the house is. Let's add a square_feet property equal to 750\n",
    "house['square_feet'] = 750\n",
    "\n",
    "# E. We want to show off the value per square foot. Print a message explaining the price per square foot.\n",
    "print(f\"The price per square foot is {house['price'] / house['square_feet']:.2f}\")\n",
    "\n",
    "# F. After 2 long hours on the market, the house has finally sold! Add a status property equal to \"sold\"\n",
    "house['status'] = 'sold'\n",
    "\n",
    "# G. Print the entire listing. You should see a dictionary similar to the following:\n",
    "# {address: \"123 Fake Street\", price: 275000, bedrooms: 3, zip_code: \"95404\" square_feet: 750, status: \"sold\"}\n",
    "print(house)"
   ]
  },
  {
   "cell_type": "code",
   "execution_count": 93,
   "metadata": {
    "id": "JqZiOzBHU5kW"
   },
   "outputs": [],
   "source": [
    "# 2.4 Python Librarian\n",
    "\n",
    "authors = [\n",
    "    {\"name\": \"Arundhati Roy\",\n",
    "    \"genre\": \"literary fiction\",\n",
    "    \"books\": [\n",
    "            \"The God of Small Things\",\n",
    "            \"The Ministry of Utmost Happiness\"\n",
    "    ],\n",
    "    \"active\": True\n",
    "    },\n",
    "    {\"name\": \"Brandon Sanderson\",\n",
    "    \"genre\": \"fantasy\",\n",
    "    \"books\": [\n",
    "            \"The Way of Kings\",\n",
    "            \"Words of Radiance\",\n",
    "            \"Oathbringer\"\n",
    "    ],\n",
    "    \"active\": True,\n",
    "    \"phone\": {\n",
    "        \"home\": \"(281) 330-8004\",\n",
    "        \"work\": \"(877) CASH-NOW\"\n",
    "        }\n",
    "    },\n",
    "    {\"name\": \"Kobo Abe\",\n",
    "    \"genre\": \"absurdist fiction\",\n",
    "    \"books\": [\n",
    "        \"The Woman in the Dunes\",\n",
    "        \"The Face of Another\"\n",
    "        ],\n",
    "    \"active\": False\n",
    "    }\n",
    "]"
   ]
  },
  {
   "cell_type": "code",
   "execution_count": 95,
   "metadata": {
    "id": "2m2q5ApuU5kY"
   },
   "outputs": [
    {
     "name": "stdout",
     "output_type": "stream",
     "text": [
      "The God of Small Things\n"
     ]
    }
   ],
   "source": [
    "# A. Access and print Arundhati Roy's first book\n",
    "print(authors[0]['books'][0])"
   ]
  },
  {
   "cell_type": "code",
   "execution_count": 97,
   "metadata": {
    "id": "7utML9ASU5kZ"
   },
   "outputs": [
    {
     "name": "stdout",
     "output_type": "stream",
     "text": [
      "(877) CASH-NOW\n"
     ]
    }
   ],
   "source": [
    "# B. We need to contact Brandon at work: access and print their work phone number\n",
    "print(authors[1]['phone']['work'])"
   ]
  },
  {
   "cell_type": "code",
   "execution_count": 99,
   "metadata": {
    "id": "Cja1Ihb7U5ka"
   },
   "outputs": [],
   "source": [
    "# C. Create a list composed of all the genres available in our library\n",
    "genres = []\n",
    "for author in authors:\n",
    "    genres.append(author['genre'])\n",
    "# genres is list with genres available \n"
   ]
  },
  {
   "cell_type": "code",
   "execution_count": 101,
   "metadata": {
    "id": "eme5F9rhU5ka"
   },
   "outputs": [],
   "source": [
    "# D. Create a list of all books available in our library\n",
    "# hint: try using the extend list method\n",
    "all_books = []\n",
    "for author in authors:\n",
    "    all_books.extend(author['books'])\n",
    "# all_books is compiled list "
   ]
  },
  {
   "cell_type": "code",
   "execution_count": 103,
   "metadata": {
    "id": "zJrutQnlU5kb"
   },
   "outputs": [],
   "source": [
    "# E. Arundhati has decided to expand their range of genres and tackle non-fiction\n",
    "#    Modify their \"genre\" property to now be a list that also includes non-fiction\n",
    "authors[0]['genre'] = [authors[0]['genre'], 'non-fiction']"
   ]
  },
  {
   "cell_type": "code",
   "execution_count": 105,
   "metadata": {
    "id": "F5tEF1iBU5kd"
   },
   "outputs": [],
   "source": [
    "# F. Brandon Sanderson is retiring. Change their active property to False.\n",
    "#    BONUS: This means we should no longer contact them. Delete their \"phone\" property\n",
    "# could set the list idx, will just try this in a loop\n",
    "for author in authors:\n",
    "    if author['name'] == 'Brandon Sanderson':\n",
    "        author.update({'active': False})\n",
    "        author.pop('phone')"
   ]
  },
  {
   "cell_type": "code",
   "execution_count": 107,
   "metadata": {
    "id": "yOMmUCa5U5ke"
   },
   "outputs": [],
   "source": [
    "# G. Add a new author to our collection of your choice. Make sure they have:\n",
    "#    i. A genre property equal to a string or list of strings\n",
    "#    ii. A books property equal to a list of strings\n",
    "#    iii. An active property equal to a boolean\n",
    "#    iv. Another property that is also a dictionary with one or more properties\n",
    "new_author = {\n",
    "    'name': 'Sandy Mitchell',\n",
    "    'genre': 'Science Fiction',\n",
    "    'books': [\n",
    "        \"Choose Your Enemies\",\n",
    "        \"Savior of the Imperium\"\n",
    "    ],\n",
    "    'active': True,\n",
    "    'phone': {\n",
    "        'home': '(111)222-3333',\n",
    "        'cell': '(444)555-6666'\n",
    "    }\n",
    "}\n",
    "authors.append(new_author)\n"
   ]
  }
 ],
 "metadata": {
  "colab": {
   "provenance": []
  },
  "kernelspec": {
   "display_name": "Python 3 (ipykernel)",
   "language": "python",
   "name": "python3"
  },
  "language_info": {
   "codemirror_mode": {
    "name": "ipython",
    "version": 3
   },
   "file_extension": ".py",
   "mimetype": "text/x-python",
   "name": "python",
   "nbconvert_exporter": "python",
   "pygments_lexer": "ipython3",
   "version": "3.12.4"
  }
 },
 "nbformat": 4,
 "nbformat_minor": 4
}
