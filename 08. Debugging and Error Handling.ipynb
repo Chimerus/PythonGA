{
 "cells": [
  {
   "cell_type": "markdown",
   "metadata": {
    "id": "rBwMIgPywUI4"
   },
   "source": [
    "#### Error Scavenger Hunt\n",
    "For each code sample below, add a comment describing, in your own words, what the error type was, what it means, and how to fix it."
   ]
  },
  {
   "cell_type": "code",
   "execution_count": 12,
   "metadata": {
    "id": "4k0u6Gn6wUI6"
   },
   "outputs": [
    {
     "ename": "KeyError",
     "evalue": "'key_error'",
     "output_type": "error",
     "traceback": [
      "\u001b[1;31m---------------------------------------------------------------------------\u001b[0m",
      "\u001b[1;31mKeyError\u001b[0m                                  Traceback (most recent call last)",
      "Cell \u001b[1;32mIn[12], line 4\u001b[0m\n\u001b[0;32m      1\u001b[0m errors \u001b[38;5;241m=\u001b[39m {\n\u001b[0;32m      2\u001b[0m     \u001b[38;5;124m\"\u001b[39m\u001b[38;5;124mKey Error\u001b[39m\u001b[38;5;124m\"\u001b[39m : \u001b[38;5;124m\"\u001b[39m\u001b[38;5;124mbig mistake\u001b[39m\u001b[38;5;124m\"\u001b[39m\n\u001b[0;32m      3\u001b[0m }\n\u001b[1;32m----> 4\u001b[0m \u001b[38;5;28mprint\u001b[39m(\u001b[38;5;124mf\u001b[39m\u001b[38;5;124m\"\u001b[39m\u001b[38;5;124mTry to avoid committing a \u001b[39m\u001b[38;5;132;01m{\u001b[39;00merrors[\u001b[38;5;124m'\u001b[39m\u001b[38;5;124mkey_error\u001b[39m\u001b[38;5;124m'\u001b[39m]\u001b[38;5;132;01m}\u001b[39;00m\u001b[38;5;124m\"\u001b[39m)\n",
      "\u001b[1;31mKeyError\u001b[0m: 'key_error'"
     ]
    }
   ],
   "source": [
    "errors = {\n",
    "    \"Key Error\" : \"big mistake\"\n",
    "}\n",
    "print(f\"Try to avoid committing a {errors['key_error']}\")\n",
    "# The KeyError tells me that that key \"key_error\" doesn't exist in errors dictionary\n",
    "# would use the key that does exist / fix the key that its looking for"
   ]
  },
  {
   "cell_type": "code",
   "execution_count": 10,
   "metadata": {
    "id": "fadbxlhZwUI8"
   },
   "outputs": [
    {
     "ename": "AttributeError",
     "evalue": "'dict' object has no attribute 'attribute_error'",
     "output_type": "error",
     "traceback": [
      "\u001b[1;31m---------------------------------------------------------------------------\u001b[0m",
      "\u001b[1;31mAttributeError\u001b[0m                            Traceback (most recent call last)",
      "Cell \u001b[1;32mIn[10], line 1\u001b[0m\n\u001b[1;32m----> 1\u001b[0m \u001b[38;5;28mprint\u001b[39m(\u001b[38;5;124mf\u001b[39m\u001b[38;5;124m\"\u001b[39m\u001b[38;5;124mSimilarly, it\u001b[39m\u001b[38;5;124m'\u001b[39m\u001b[38;5;124ms easy to make an \u001b[39m\u001b[38;5;132;01m{\u001b[39;00merrors\u001b[38;5;241m.\u001b[39mattribute_error\u001b[38;5;132;01m}\u001b[39;00m\u001b[38;5;124m\"\u001b[39m)\n",
      "\u001b[1;31mAttributeError\u001b[0m: 'dict' object has no attribute 'attribute_error'"
     ]
    }
   ],
   "source": [
    "print(f\"Similarly, it's easy to make an {errors.attribute_error}\")\n",
    "# The AttributeError tells me that dictionary doesnt have that attribute\n",
    "# fix by checking one it does have, or add that attribute"
   ]
  },
  {
   "cell_type": "code",
   "execution_count": 14,
   "metadata": {
    "id": "XSlvYqQfwUI-"
   },
   "outputs": [
    {
     "ename": "ModuleNotFoundError",
     "evalue": "No module named 'CodeWithoutErrors'",
     "output_type": "error",
     "traceback": [
      "\u001b[1;31m---------------------------------------------------------------------------\u001b[0m",
      "\u001b[1;31mModuleNotFoundError\u001b[0m                       Traceback (most recent call last)",
      "Cell \u001b[1;32mIn[14], line 1\u001b[0m\n\u001b[1;32m----> 1\u001b[0m \u001b[38;5;28;01mimport\u001b[39;00m \u001b[38;5;21;01mCodeWithoutErrors\u001b[39;00m\n",
      "\u001b[1;31mModuleNotFoundError\u001b[0m: No module named 'CodeWithoutErrors'"
     ]
    }
   ],
   "source": [
    "import CodeWithoutErrors\n",
    "# the CodeWithoutErrors module does not exist\n",
    "# fix by using a different module that exists"
   ]
  },
  {
   "cell_type": "code",
   "execution_count": 16,
   "metadata": {
    "id": "tuLV11JpwUI_",
    "scrolled": true
   },
   "outputs": [
    {
     "ename": "IndexError",
     "evalue": "list index out of range",
     "output_type": "error",
     "traceback": [
      "\u001b[1;31m---------------------------------------------------------------------------\u001b[0m",
      "\u001b[1;31mIndexError\u001b[0m                                Traceback (most recent call last)",
      "Cell \u001b[1;32mIn[16], line 5\u001b[0m\n\u001b[0;32m      3\u001b[0m first_place \u001b[38;5;241m=\u001b[39m race_runners[\u001b[38;5;241m1\u001b[39m]\n\u001b[0;32m      4\u001b[0m second_place \u001b[38;5;241m=\u001b[39m race_runners[\u001b[38;5;241m2\u001b[39m]\n\u001b[1;32m----> 5\u001b[0m third_place \u001b[38;5;241m=\u001b[39m race_runners[\u001b[38;5;241m3\u001b[39m]\n\u001b[0;32m      7\u001b[0m \u001b[38;5;28mprint\u001b[39m(\u001b[38;5;124m\"\u001b[39m\u001b[38;5;124mThe winners are:\u001b[39m\u001b[38;5;124m\"\u001b[39m, first_place, second_place, third_place)\n",
      "\u001b[1;31mIndexError\u001b[0m: list index out of range"
     ]
    }
   ],
   "source": [
    "race_runners = [\"Yuna\", \"Bill\", \"Hyun\"]\n",
    "\n",
    "first_place = race_runners[1]\n",
    "second_place = race_runners[2]\n",
    "third_place = race_runners[3]\n",
    "\n",
    "print(\"The winners are:\", first_place, second_place, third_place)\n",
    "# error is on line 5 and the list is looking for an index that does not exist on list\n",
    "# fix use an index that does exist"
   ]
  },
  {
   "cell_type": "code",
   "execution_count": 18,
   "metadata": {
    "id": "7ZPhgUu_wUJB",
    "scrolled": true
   },
   "outputs": [
    {
     "ename": "IndentationError",
     "evalue": "expected an indented block after 'if' statement on line 2 (1618862145.py, line 3)",
     "output_type": "error",
     "traceback": [
      "\u001b[1;36m  Cell \u001b[1;32mIn[18], line 3\u001b[1;36m\u001b[0m\n\u001b[1;33m    print(\"I am invincible!\")\u001b[0m\n\u001b[1;37m    ^\u001b[0m\n\u001b[1;31mIndentationError\u001b[0m\u001b[1;31m:\u001b[0m expected an indented block after 'if' statement on line 2\n"
     ]
    }
   ],
   "source": [
    "code_is_perfect = False\n",
    "if code_is_perfect:\n",
    "print(\"I am invincible!\")\n",
    "# the error on line 3 is that the block isnt indented, where it should be after a statement\n",
    "# fix by correcting the indentation"
   ]
  },
  {
   "cell_type": "code",
   "execution_count": 20,
   "metadata": {
    "id": "LaRKuTAcwUJC",
    "scrolled": true
   },
   "outputs": [
    {
     "ename": "NameError",
     "evalue": "name 'nameless_variable' is not defined",
     "output_type": "error",
     "traceback": [
      "\u001b[1;31m---------------------------------------------------------------------------\u001b[0m",
      "\u001b[1;31mNameError\u001b[0m                                 Traceback (most recent call last)",
      "Cell \u001b[1;32mIn[20], line 1\u001b[0m\n\u001b[1;32m----> 1\u001b[0m \u001b[38;5;28mprint\u001b[39m(nameless_variable)\n",
      "\u001b[1;31mNameError\u001b[0m: name 'nameless_variable' is not defined"
     ]
    }
   ],
   "source": [
    "print(nameless_variable)\n",
    "# error lets us know we don't have a variable by the name expected\n",
    "# fix use a variable that does exist, or create one"
   ]
  },
  {
   "cell_type": "code",
   "execution_count": 22,
   "metadata": {
    "id": "c3Dbq524wUJE",
    "scrolled": true
   },
   "outputs": [
    {
     "ename": "SyntaxError",
     "evalue": "expected ':' (3683025114.py, line 2)",
     "output_type": "error",
     "traceback": [
      "\u001b[1;36m  Cell \u001b[1;32mIn[22], line 2\u001b[1;36m\u001b[0m\n\u001b[1;33m    if knowledge_of_python > 50\u001b[0m\n\u001b[1;37m                               ^\u001b[0m\n\u001b[1;31mSyntaxError\u001b[0m\u001b[1;31m:\u001b[0m expected ':'\n"
     ]
    }
   ],
   "source": [
    "knowledge_of_python = 40\n",
    "if knowledge_of_python > 50\n",
    "    print(\"you will never make a mistake again\")\n",
    "# syntax error where the colon after if statement is missing\n",
    "# fix by adding the colon"
   ]
  },
  {
   "cell_type": "code",
   "execution_count": 28,
   "metadata": {
    "id": "TH9GD-UZwUJF",
    "scrolled": true
   },
   "outputs": [
    {
     "name": "stdout",
     "output_type": "stream",
     "text": [
      "132\n"
     ]
    }
   ],
   "source": [
    "print(99 + \"Red Balloons\")\n",
    "# we should use both of the same type when using + in a print statement, cannot mix them\n",
    "# fix with adding quotation marks around 99"
   ]
  },
  {
   "cell_type": "code",
   "execution_count": 34,
   "metadata": {
    "id": "elLqnWbPwUJG"
   },
   "outputs": [
    {
     "ename": "ValueError",
     "evalue": "invalid literal for int() with base 10: 'five'",
     "output_type": "error",
     "traceback": [
      "\u001b[1;31m---------------------------------------------------------------------------\u001b[0m",
      "\u001b[1;31mValueError\u001b[0m                                Traceback (most recent call last)",
      "Cell \u001b[1;32mIn[34], line 1\u001b[0m\n\u001b[1;32m----> 1\u001b[0m \u001b[38;5;241m5\u001b[39m \u001b[38;5;241m+\u001b[39m \u001b[38;5;28mint\u001b[39m(\u001b[38;5;124m\"\u001b[39m\u001b[38;5;124mfive\u001b[39m\u001b[38;5;124m\"\u001b[39m)\n",
      "\u001b[1;31mValueError\u001b[0m: invalid literal for int() with base 10: 'five'"
     ]
    }
   ],
   "source": [
    "5 + int(\"five\")\n",
    "# The string five cannot be coerced into an integer\n",
    "# could fix with using int('5')"
   ]
  },
  {
   "cell_type": "markdown",
   "metadata": {
    "id": "fPbql87hwUJH"
   },
   "source": [
    "#### Exceptional Error Handling\n",
    "We want to add some restrictions to the User class below:\n",
    "\n",
    "username must be unique. If a user in all_users has the same username, raise an exception.\n",
    "\n",
    "email must match a standard email regex pattern. Hint: this is a classic google situation!\n",
    "\n",
    "password must be at least 8 characters and contain a number. Hint: \"test if a string contains a number python\""
   ]
  },
  {
   "cell_type": "code",
   "execution_count": 1,
   "metadata": {
    "id": "cMXdPnoCwUJI"
   },
   "outputs": [],
   "source": [
    "# A.\n",
    "# Add exception raising to the __init__ method to ensure users with invalid properties throw errors\n",
    "# For each property, raise an exception with a specific error message so we can test the message later\n",
    "# Only fully valid users should make it to the all_users list\n",
    "import re\n",
    "\n",
    "class User:\n",
    "    all_users = []\n",
    "    def __init__(self, username, email, password):\n",
    "        self.username = username\n",
    "        for user in User.all_users:\n",
    "            if user.username == username:\n",
    "                raise ValueError(\"UserName already taken\")\n",
    "        self.email = email\n",
    "        email_validate_pattern = r\"^\\S+@\\S+\\.\\S+$\"\n",
    "        if re.search(email_validate_pattern, email):\n",
    "            self.email = email\n",
    "        else:\n",
    "            raise ValueError(\"Invalid Email\")\n",
    "        self.password = password\n",
    "        if(len(password) < 8 or (any(char.isdigit() for char in password) == False)):\n",
    "            raise ValueError(\"Invalid Password\")\n",
    "\n",
    "        User.all_users.append(self)\n",
    "        print(f\"SUCCESSFULLY CREATED THE USER {username} WITH EMAIL {email} AND PASSWORD {password}\")\n"
   ]
  },
  {
   "cell_type": "code",
   "execution_count": 2,
   "metadata": {
    "id": "4EdtyMQIwUJK"
   },
   "outputs": [],
   "source": [
    "# B.\n",
    "# Add try/except handling to this function\n",
    "# If an error is raised, check the error message to determine what value is invalid\n",
    "# Use the input function to get a new input for the invalid value\n",
    "# Once you have a new value from the user, invoke create_new_user again with updated input value\n",
    "def create_new_user(username, email, password):\n",
    "    try:\n",
    "        new_user = User(username, email, password)\n",
    "        return new_user\n",
    "    except ValueError as error:\n",
    "        msg = str(error)\n",
    "        if msg == \"UserName already taken\":\n",
    "            new_user_name = input(f\"{error}, for username {username} please enter a new one.\")\n",
    "            create_new_user(new_user_name, email, password)\n",
    "        elif msg == \"Invalid Email\":\n",
    "            new_email = input(f\"{error}, for email {email} please fix it.\")\n",
    "            create_new_user(username, new_email, password)\n",
    "        elif msg == \"Invalid Password\":\n",
    "            new_password = input(f\"{error}, for password {password}, password must be at least 8 characters and contain a number.\")\n",
    "            create_new_user(username, email, new_password)"
   ]
  },
  {
   "cell_type": "code",
   "execution_count": 5,
   "metadata": {
    "id": "b1xaMd-lwUJL"
   },
   "outputs": [
    {
     "name": "stdout",
     "output_type": "stream",
     "text": [
      "SUCCESSFULLY CREATED THE USER El_Barto WITH EMAIL el_barto@gmail.com AND PASSWORD a1b2c3d4\n"
     ]
    },
    {
     "name": "stdin",
     "output_type": "stream",
     "text": [
      "UserName already taken, for username El_Barto please enter a new one. El_Narto2\n"
     ]
    },
    {
     "name": "stdout",
     "output_type": "stream",
     "text": [
      "SUCCESSFULLY CREATED THE USER El_Narto2 WITH EMAIL barto_the_second@gmail.com AND PASSWORD a1b2c3d4\n"
     ]
    },
    {
     "name": "stdin",
     "output_type": "stream",
     "text": [
      "Invalid Password, for password 2short, password must be at least 8 characters and contain a number. 2shotr2furious\n"
     ]
    },
    {
     "name": "stdout",
     "output_type": "stream",
     "text": [
      "SUCCESSFULLY CREATED THE USER pythonista WITH EMAIL programmer_supreme@hotmail.com AND PASSWORD 2shotr2furious\n"
     ]
    },
    {
     "name": "stdin",
     "output_type": "stream",
     "text": [
      "Invalid Password, for password longenoughbutnodigits, password must be at least 8 characters and contain a number. longenough1\n"
     ]
    },
    {
     "name": "stdout",
     "output_type": "stream",
     "text": [
      "SUCCESSFULLY CREATED THE USER verbose_user WITH EMAIL iliketypingalot@aol.com AND PASSWORD longenough1\n"
     ]
    },
    {
     "name": "stdin",
     "output_type": "stream",
     "text": [
      "Invalid Email, for email none_provided please fix it. none_provided@gmail.com\n"
     ]
    },
    {
     "name": "stdout",
     "output_type": "stream",
     "text": [
      "SUCCESSFULLY CREATED THE USER off_tha_grid WITH EMAIL none_provided@gmail.com AND PASSWORD iburygold3\n"
     ]
    }
   ],
   "source": [
    "# C.\n",
    "users_awaiting_creation = [\n",
    "    {\"username\":\"El_Barto\", \"email\":\"el_barto@gmail.com\", \"password\":\"a1b2c3d4\"}, #should be valid\n",
    "    {\"username\":\"El_Barto\", \"email\":\"barto_the_second@gmail.com\", \"password\":\"a1b2c3d4\"}, #should be invalid due to username\n",
    "    {\"username\":\"pythonista\", \"email\":\"programmer_supreme@hotmail.com\", \"password\":\"2short\"}, #should have invalid password length\n",
    "    {\"username\":\"verbose_user\", \"email\":\"iliketypingalot@aol.com\", \"password\":\"longenoughbutnodigits\"}, #should be invalid password due to no digits\n",
    "    {\"username\":\"off_tha_grid\", \"email\":\"none_provided\", \"password\":\"iburygold3\"}, #should have an invalid email address\n",
    "]\n",
    "# This loop should raise a good deal of errors due to bad user data\n",
    "# If you've added proper input prompts and error handling, you should be able to type in valid alternatives\n",
    "# By the end, you should see successful creation messages for the 5 users\n",
    "for user in users_awaiting_creation:\n",
    "    new_user = create_new_user(user['username'], user['email'], user['password'])"
   ]
  },
  {
   "cell_type": "code",
   "execution_count": null,
   "metadata": {},
   "outputs": [],
   "source": []
  }
 ],
 "metadata": {
  "colab": {
   "provenance": []
  },
  "kernelspec": {
   "display_name": "Python 3 (ipykernel)",
   "language": "python",
   "name": "python3"
  },
  "language_info": {
   "codemirror_mode": {
    "name": "ipython",
    "version": 3
   },
   "file_extension": ".py",
   "mimetype": "text/x-python",
   "name": "python",
   "nbconvert_exporter": "python",
   "pygments_lexer": "ipython3",
   "version": "3.12.4"
  }
 },
 "nbformat": 4,
 "nbformat_minor": 4
}
