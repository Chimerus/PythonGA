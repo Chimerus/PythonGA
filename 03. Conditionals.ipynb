{
 "cells": [
  {
   "cell_type": "code",
   "execution_count": 14,
   "metadata": {
    "id": "zNfimgPg4Y9m"
   },
   "outputs": [],
   "source": [
    "# 3.1 Price Conditions\n",
    "# Translate the following logical decisions into python conditionals"
   ]
  },
  {
   "cell_type": "code",
   "execution_count": 40,
   "metadata": {
    "id": "mPP4ETwF4Y9o"
   },
   "outputs": [],
   "source": [
    "# A. If the price is under 10, add 10% tax to the price.\n",
    "# Otherwise, add 15% luxury tax instead.\n",
    "price = 25\n",
    "if price < 10:\n",
    "    price *= 1.10\n",
    "else:\n",
    "    price *= 1.15"
   ]
  },
  {
   "cell_type": "code",
   "execution_count": 42,
   "metadata": {
    "id": "qXeu4YDK4Y9p"
   },
   "outputs": [],
   "source": [
    "# B. If the customer's status is \"VIP\", lower the price by 20%\n",
    "customer = { \"name\": \"Lisa Su\", \"status\": \"VIP\" }\n",
    "if customer['status'] == \"VIP\":\n",
    "    price *= 0.80"
   ]
  },
  {
   "cell_type": "code",
   "execution_count": 44,
   "metadata": {
    "id": "2jBzbar-4Y9q"
   },
   "outputs": [
    {
     "name": "stdout",
     "output_type": "stream",
     "text": [
      "You get what you pay for. Get the most. Buy now for 23.0\n"
     ]
    }
   ],
   "source": [
    "# C. Let's alter our advertising based on the price of the product, filling in the blank with the price\n",
    "#    i. If the price is less than 5, print \"For less than a cup of coffee, buy now for _____\"\n",
    "#.   ii. Otherwise, if the price is less than 20, print \"Good value. Great products. Buy now for _____\"\n",
    "#.   iii. Otherwise, print \"You get what you pay for. Get the most. Buy now for ______\"\n",
    "if price < 5:\n",
    "    print(f\"For less than a cup of coffee, buy now for {price}\")\n",
    "elif price < 20:\n",
    "    print(f\"Good value. Great products. Buy now for {price}\")\n",
    "else:\n",
    "    print(f\"You get what you pay for. Get the most. Buy now for {price}\")\n",
    "    \n"
   ]
  },
  {
   "cell_type": "code",
   "execution_count": 46,
   "metadata": {
    "id": "g6x9Gpan4Y9r"
   },
   "outputs": [
    {
     "name": "stdout",
     "output_type": "stream",
     "text": [
      "Your best value is the 90s Comedy DVD for only 2.99\n"
     ]
    }
   ],
   "source": [
    "# D. Given this list of products, use a conditional to figure out which has the lower price.\n",
    "#.   Print a message saying \"Your best value is the _____ for only ______\"\n",
    "#.   Fill in the blanks with the name and price of the cheaper item, respectively\n",
    "bargain_bin = [\n",
    "    {\"name\": \"90s Comedy DVD\", \"price\": 2.99},\n",
    "    {\"name\": \"80s Drama DVD\", \"price\": 3.99}\n",
    "]\n",
    "\n",
    "if bargain_bin[0][\"price\"] < bargain_bin[1][\"price\"]:\n",
    "    print(f\"Your best value is the {bargain_bin[0][\"name\"]} for only {bargain_bin[0][\"price\"]}\")\n",
    "else:\n",
    "    print(f\"Your best value is the {bargain_bin[1][\"name\"]} for only {bargain_bin[1][\"price\"]}\")\n"
   ]
  },
  {
   "cell_type": "code",
   "execution_count": 48,
   "metadata": {
    "id": "o-bAB4Mp4Y9r"
   },
   "outputs": [],
   "source": [
    "# 3.2 Complex Conditions"
   ]
  },
  {
   "cell_type": "code",
   "execution_count": 50,
   "metadata": {
    "id": "Ua-cYBg84Y9s"
   },
   "outputs": [
    {
     "name": "stdout",
     "output_type": "stream",
     "text": [
      "b is not a vowel\n"
     ]
    }
   ],
   "source": [
    "# A. Write a conditional that determines whether the letter is a vowel\n",
    "#.   Print a message stating \"___ is a vowel\" or \"___ is not a vowel\"\n",
    "letter = \"b\"\n",
    "vowels = [\"a\",\"e\",\"i\",\"o\",\"u\"]\n",
    "vowel_check = \"is not\"\n",
    "for l in vowels:\n",
    "    if letter == l:\n",
    "        vowel_check = \"is\" \n",
    "print(f\"{letter} {vowel_check} a vowel\")"
   ]
  },
  {
   "cell_type": "code",
   "execution_count": 58,
   "metadata": {
    "id": "Wukrjsz94Y9t"
   },
   "outputs": [
    {
     "name": "stdout",
     "output_type": "stream",
     "text": [
      "Player Win\n"
     ]
    }
   ],
   "source": [
    "# B. Determine whether the player beat the computer at rock, paper, scissors\n",
    "#    As a reminder, \"paper\" beats \"rock\", \"scissors\" beats \"paper\", and \"rock\" beats \"scissors\"\n",
    "#.   Print a message saying whether the player won, lost, or tied\n",
    "player_choice = \"rock\"\n",
    "computer_choice = \"scissors\"\n",
    "outcome = \"\"\n",
    "if player_choice == computer_choice:\n",
    "    outcome = \"Tie\"\n",
    "elif player_choice == \"rock\" and computer_choice == \"scissors\" or player_choice == \"paper\" and computer_choice == \"rock\" or player_choice == \"scissors\" and computer_choice == \"paper\":\n",
    "    outcome = \"Win\"\n",
    "else:\n",
    "    outcome = \"Lose\"\n",
    "print(f\"Player {outcome}\")"
   ]
  },
  {
   "cell_type": "code",
   "execution_count": 60,
   "metadata": {
    "id": "u0V3Q3Ol4Y9u"
   },
   "outputs": [
    {
     "name": "stdout",
     "output_type": "stream",
     "text": [
      "isosceles triangle\n"
     ]
    }
   ],
   "source": [
    "# C. Write the code that determines if the triangle is:\n",
    "#      equalateral - all three sides are equal in length\n",
    "#      scalene - all three sides are unequal in length\n",
    "#      isosceles - two sides are the same length\n",
    "side_a = 5\n",
    "side_b = 7\n",
    "side_c = 5\n",
    "\n",
    "if side_a == side_b and side_b == side_c:\n",
    "    print(\"equalateral triangle\")\n",
    "elif side_a != side_b and side_b != side_c and side_a != side_c:\n",
    "    print(\"scalene triangle\")\n",
    "elif side_a == side_b or side_b == side_c or side_a == side_c:\n",
    "    print(\"isosceles triangle\")\n",
    "else:\n",
    "    print(\"not special triangle\")\n"
   ]
  },
  {
   "cell_type": "code",
   "execution_count": 62,
   "metadata": {
    "id": "qoliecNS4Y9v"
   },
   "outputs": [
    {
     "name": "stdout",
     "output_type": "stream",
     "text": [
      "Sep 25 is in Fall\n"
     ]
    }
   ],
   "source": [
    "# D. Calculate what season it is based upon this chart:\n",
    "#      Dec 21 - Mar 19: Winter\n",
    "#      Mar 20 - Jun 20: Spring\n",
    "#      Jun 21 - Sep 21: Summer\n",
    "#      Sep 22 - Dec 20: Fall\n",
    "# Print the result as follows:\n",
    "#      <Mmm> <dd> is in <season>\n",
    "month = \"Sep\"\n",
    "day = 25\n",
    "\n",
    "if month == \"Jan\" or month == \"Feb\":\n",
    "    season = \"Winter\"\n",
    "elif month == \"Dec\":\n",
    "    if day > 20:\n",
    "        season = \"Winter\"\n",
    "    else:\n",
    "        season = \"Fall\"\n",
    "elif month == \"Mar\":\n",
    "    if day > 20:\n",
    "        season = \"Spring\"\n",
    "    else:\n",
    "        season = \"Winter\"\n",
    "elif month == \"Apr\" or month == \"May\":\n",
    "    season = \"Spring\"\n",
    "elif month == \"Jun\":\n",
    "    if day > 20:\n",
    "        season = \"Summer\"\n",
    "    else:\n",
    "        season = \"Spring\"\n",
    "elif month == \"Jul\" or month == \"Aug\":\n",
    "    season = \"Summmer\"\n",
    "elif month == \"Sep\":\n",
    "    if day > 21:\n",
    "        season = \"Fall\"\n",
    "    else:\n",
    "        season = \"Summer\"\n",
    "else:\n",
    "    season = \"Fall\"\n",
    "\n",
    "print(f\"{month} {day} is in {season}\")\n"
   ]
  },
  {
   "cell_type": "code",
   "execution_count": 64,
   "metadata": {
    "id": "qsgbVFaN4Y9w"
   },
   "outputs": [
    {
     "name": "stdout",
     "output_type": "stream",
     "text": [
      "The boat is in a valid, productive state. Go boat!\n"
     ]
    }
   ],
   "source": [
    "# E. The Farmer's Boat\n",
    "boat = {\n",
    "    \"has_fox\": True,\n",
    "    \"has_chicken\": False,\n",
    "    \"has_grain\": True\n",
    "}\n",
    "# 1. If all three properties are true, print \"The boat was too heavy and sank\"\n",
    "# 2. If the boat's has_fox and has_chicken properties are true, print \"The fox ate the chicken\"\n",
    "# 3. If the boat's has_chicken and has_grain propertes are true, print \"The chicken ate the grain\"\n",
    "# 4. If none of them are true, print \"The boat sank from disuse\"\n",
    "# 5. Otherwise, print \"The boat is in a valid, productive state. Go boat!\"\n",
    "\n",
    "if boat[\"has_fox\"] and boat[\"has_chicken\"] and boat[\"has_grain\"]:\n",
    "    print(\"The boat was too heavy and sank\")\n",
    "elif boat[\"has_fox\"] and boat[\"has_chicken\"]:\n",
    "    print(\"The fox ate the chicken\")\n",
    "elif boat[\"has_chicken\"] and boat[\"has_grain\"]:\n",
    "    print(\"The chicken ate the grain\")\n",
    "elif not boat[\"has_fox\"] and not boat[\"has_chicken\"] and not boat[\"has_grain\"]:\n",
    "    print(\"The boat sank from disuse\")\n",
    "else:\n",
    "    print(\"The boat is in a valid, productive state. Go boat!\")"
   ]
  },
  {
   "cell_type": "code",
   "execution_count": null,
   "metadata": {},
   "outputs": [],
   "source": []
  }
 ],
 "metadata": {
  "colab": {
   "provenance": []
  },
  "kernelspec": {
   "display_name": "Python 3 (ipykernel)",
   "language": "python",
   "name": "python3"
  },
  "language_info": {
   "codemirror_mode": {
    "name": "ipython",
    "version": 3
   },
   "file_extension": ".py",
   "mimetype": "text/x-python",
   "name": "python",
   "nbconvert_exporter": "python",
   "pygments_lexer": "ipython3",
   "version": "3.12.4"
  }
 },
 "nbformat": 4,
 "nbformat_minor": 4
}
