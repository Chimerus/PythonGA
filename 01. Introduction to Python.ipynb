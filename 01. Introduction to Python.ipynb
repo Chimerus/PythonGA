{
 "cells": [
  {
   "cell_type": "code",
   "execution_count": 2,
   "metadata": {
    "id": "En8DnXkoNieE"
   },
   "outputs": [
    {
     "name": "stdout",
     "output_type": "stream",
     "text": [
      "The Zen of Python, by Tim Peters\n",
      "\n",
      "Beautiful is better than ugly.\n",
      "Explicit is better than implicit.\n",
      "Simple is better than complex.\n",
      "Complex is better than complicated.\n",
      "Flat is better than nested.\n",
      "Sparse is better than dense.\n",
      "Readability counts.\n",
      "Special cases aren't special enough to break the rules.\n",
      "Although practicality beats purity.\n",
      "Errors should never pass silently.\n",
      "Unless explicitly silenced.\n",
      "In the face of ambiguity, refuse the temptation to guess.\n",
      "There should be one-- and preferably only one --obvious way to do it.\n",
      "Although that way may not be obvious at first unless you're Dutch.\n",
      "Now is better than never.\n",
      "Although never is often better than *right* now.\n",
      "If the implementation is hard to explain, it's a bad idea.\n",
      "If the implementation is easy to explain, it may be a good idea.\n",
      "Namespaces are one honking great idea -- let's do more of those!\n"
     ]
    }
   ],
   "source": [
    "# 1.1 Our First Jupyter Cell\n",
    "# Select this cell and execute it by clicking run or using the shortcut, ctrl + enter\n",
    "# This will display the \"Zen of Python,\" describing the philosophy behind python\n",
    "import this"
   ]
  },
  {
   "cell_type": "code",
   "execution_count": 1,
   "metadata": {
    "id": "PaAHtCpINieG"
   },
   "outputs": [
    {
     "name": "stdout",
     "output_type": "stream",
     "text": [
      "Hello World, my name is Chimerus and I am stoked about learning python.\n"
     ]
    }
   ],
   "source": [
    "# 1.2 Introduce Yourself\n",
    "# Define the variables greeting, name, and mood, and assign them string-type values\n",
    "# Then, execute this cell to see an introduction message printed to the console\n",
    "greeting = \"Hello World\"\n",
    "name = \"Chimerus\"\n",
    "mood = \"stoked\"\n",
    "\n",
    "print(greeting + \", my name is \" + name + \" and I am \" + mood + \" about learning python.\")"
   ]
  },
  {
   "cell_type": "code",
   "execution_count": 5,
   "metadata": {
    "id": "293qBlkzNieI"
   },
   "outputs": [
    {
     "name": "stdout",
     "output_type": "stream",
     "text": [
      "12.2\n"
     ]
    }
   ],
   "source": [
    "# 1.3 Operators and Updating Variables\n",
    "# Define numeric variables for the month and day of your birthdate to be used whenever requested\n",
    "month = 12\n",
    "day = 21\n",
    "\n",
    "# Write a new line of code beneath each comment, always updating the birthdate variable as you do so\n",
    "birthdate = 7\n",
    "# Multiply by the month\n",
    "birthdate *= month\n",
    "# Subtract 1\n",
    "birthdate -= 1\n",
    "# Multiply by 13\n",
    "birthdate *= 13\n",
    "# Add the day of your birth\n",
    "birthdate += day\n",
    "# Add 3\n",
    "birthdate += 3\n",
    "# Multiply by 11\n",
    "birthdate *= 11\n",
    "# Subtract the month of your birth\n",
    "birthdate -= month\n",
    "# Subtract the day of your birth\n",
    "birthdate -= day\n",
    "# Divide by 10\n",
    "birthdate /= 10\n",
    "# Add 11\n",
    "birthdate += 11\n",
    "# Divide by 100\n",
    "birthdate /= 100\n",
    "# birthdate should now be a floating point number with the month.day of your birthday\n",
    "print(birthdate)"
   ]
  },
  {
   "cell_type": "code",
   "execution_count": 43,
   "metadata": {
    "id": "NYtsULtENieK"
   },
   "outputs": [
    {
     "name": "stdout",
     "output_type": "stream",
     "text": [
      "heres a little story all about how the red cow could jump. The red cow could jump right over the hot toe\n"
     ]
    }
   ],
   "source": [
    "# 1.4 Python Mad Libs\n",
    "# Create a Mad Libs style game using string concatenation or the \"f-string\" style string interpolation\n",
    "# First, define at least 5 variables with names such as adjective_one or noun_three\n",
    "# Then, plug those variables into a long string that tells a story using those variables\n",
    "\n",
    "adj_one = \"red\"\n",
    "noun_one = \"cow\"\n",
    "verb_one = \"jump\"\n",
    "adj_two = 'hot'\n",
    "noun_two = 'toe'\n",
    "\n",
    "print(f\"heres a little story all about how the {adj_one} {noun_one} could {verb_one}. The {adj_one} {noun_one} could {verb_one} right over the {adj_two} {noun_two}\")\n"
   ]
  },
  {
   "cell_type": "code",
   "execution_count": null,
   "metadata": {
    "id": "8RRKdvkVNieM"
   },
   "outputs": [],
   "source": [
    "# 1.5 Code Fast and Break Things\n",
    "# Each of the following lines of code is mistaken in some way\n",
    "# Either they contain errors or don't do what the user would expect them to\n",
    "# Correct each example, and write a comment explaining what went wrong"
   ]
  },
  {
   "cell_type": "code",
   "execution_count": 15,
   "metadata": {
    "id": "u-vPVfxWNieO"
   },
   "outputs": [
    {
     "name": "stdout",
     "output_type": "stream",
     "text": [
      "Hello World\n"
     ]
    }
   ],
   "source": [
    "# A.\n",
    "my_variable = \"Hello World\"\n",
    "print(my_variable)"
   ]
  },
  {
   "cell_type": "code",
   "execution_count": 13,
   "metadata": {
    "id": "D-lE-0xANieP"
   },
   "outputs": [
    {
     "name": "stdout",
     "output_type": "stream",
     "text": [
      "10\n"
     ]
    }
   ],
   "source": [
    "# B.\n",
    "# Why didn't it print ten?\n",
    "my_number = 5\n",
    "my_number = my_number + 5\n",
    "print(my_number)"
   ]
  },
  {
   "cell_type": "code",
   "execution_count": 7,
   "metadata": {
    "id": "QFPAs1USNieR"
   },
   "outputs": [
    {
     "name": "stdout",
     "output_type": "stream",
     "text": [
      "5Hello\n"
     ]
    }
   ],
   "source": [
    "# C.\n",
    "my_num = \"5\"\n",
    "my_string = \"Hello\"\n",
    "print(my_num + my_string)"
   ]
  },
  {
   "cell_type": "code",
   "execution_count": 11,
   "metadata": {
    "id": "IPqcuHh5NieT"
   },
   "outputs": [
    {
     "name": "stdout",
     "output_type": "stream",
     "text": [
      "30\n"
     ]
    }
   ],
   "source": [
    "# D.\n",
    "# The user expected the result to be 30!\n",
    "my_num1 = 10\n",
    "my_num2 = 20\n",
    "print(my_num1 + my_num2)"
   ]
  },
  {
   "cell_type": "code",
   "execution_count": 23,
   "metadata": {
    "id": "SKrCMznONieT"
   },
   "outputs": [
    {
     "name": "stdout",
     "output_type": "stream",
     "text": [
      "I enjoy python in the morning\n"
     ]
    }
   ],
   "source": [
    "# E.\n",
    "# The user expected the message to read \"I enjoy python in the morning.\"\n",
    "language = \"python\"\n",
    "print(f\"I enjoy {language} in the morning\")"
   ]
  },
  {
   "cell_type": "code",
   "execution_count": 21,
   "metadata": {
    "id": "lQBTh7OGNieW"
   },
   "outputs": [
    {
     "name": "stdout",
     "output_type": "stream",
     "text": [
      "There are 2 plums at home for me\n"
     ]
    }
   ],
   "source": [
    "# F.\n",
    "# The user expected the message to read \"There are 2 plums at home for me\"\n",
    "number_of_plums = \"2\"\n",
    "who_plums_are_for = \"me\"\n",
    "print(f\"There are {number_of_plums} plums at home for \" + who_plums_are_for)"
   ]
  },
  {
   "cell_type": "code",
   "execution_count": null,
   "metadata": {
    "id": "1CSKlyUPNieW"
   },
   "outputs": [],
   "source": [
    "# 1.6 How many ways to print with variables\n",
    "# Programming provides many ways of doing the same thing\n",
    "# We've learned about concatenation and f-string interpolation so far\n",
    "# Below, research and demonstrate four different ways of including variables in a string in python\n",
    "# You don't need to understand exactly how they're working to get them to work!\n"
   ]
  },
  {
   "cell_type": "code",
   "execution_count": 55,
   "metadata": {},
   "outputs": [
    {
     "name": "stdout",
     "output_type": "stream",
     "text": [
      "var is VARIABLE\n",
      "var is VARIABLE\n",
      "var is VARIABLE\n",
      "var is VARIABLE\n"
     ]
    }
   ],
   "source": [
    "varstr = \"VARIABLE\"\n",
    "# concatenation\n",
    "print(\"var is \"+varstr)\n",
    "# f-string interpolation\n",
    "print(f\"var is {varstr}\")\n",
    "# comma imnterpolation\n",
    "print(\"var is\",varstr)\n",
    "# modulus operator\n",
    "print(\"var is %s\" %(varstr))\n"
   ]
  },
  {
   "cell_type": "code",
   "execution_count": null,
   "metadata": {},
   "outputs": [],
   "source": []
  }
 ],
 "metadata": {
  "colab": {
   "provenance": []
  },
  "kernelspec": {
   "display_name": "Python 3 (ipykernel)",
   "language": "python",
   "name": "python3"
  },
  "language_info": {
   "codemirror_mode": {
    "name": "ipython",
    "version": 3
   },
   "file_extension": ".py",
   "mimetype": "text/x-python",
   "name": "python",
   "nbconvert_exporter": "python",
   "pygments_lexer": "ipython3",
   "version": "3.12.4"
  }
 },
 "nbformat": 4,
 "nbformat_minor": 4
}
