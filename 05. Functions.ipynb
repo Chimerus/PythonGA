{
 "cells": [
  {
   "cell_type": "code",
   "execution_count": null,
   "metadata": {
    "id": "N-VlW78ww_sD"
   },
   "outputs": [],
   "source": [
    "# 5.1 Functions"
   ]
  },
  {
   "cell_type": "code",
   "execution_count": 2,
   "metadata": {
    "id": "jk-6vqczw_sI"
   },
   "outputs": [
    {
     "name": "stdout",
     "output_type": "stream",
     "text": [
      "Hello, World.\n"
     ]
    }
   ],
   "source": [
    "# A. Write a function that accepts one parameter, name\n",
    "#    The function should *print* the message \"Hello, _____.\" filling in the blank with the name\n",
    "def greet(name):\n",
    "    print(f\"Hello, {name}.\")\n",
    "\n",
    "greet(\"World\")"
   ]
  },
  {
   "cell_type": "code",
   "execution_count": 6,
   "metadata": {
    "id": "sbTZZyFGw_sL"
   },
   "outputs": [
    {
     "name": "stdout",
     "output_type": "stream",
     "text": [
      "False\n"
     ]
    }
   ],
   "source": [
    "# B. Write a function that accepts one parameter, a number\n",
    "#    The function should *return* True or False depending on whether the number is even\n",
    "def even(num):\n",
    "    return(num % 2 == 0)\n",
    "\n",
    "print(even(3))"
   ]
  },
  {
   "cell_type": "code",
   "execution_count": 16,
   "metadata": {
    "id": "X_eLgLJMw_sO"
   },
   "outputs": [
    {
     "data": {
      "text/plain": [
       "10"
      ]
     },
     "execution_count": 16,
     "metadata": {},
     "output_type": "execute_result"
    }
   ],
   "source": [
    "# C. Write a function that accepts one parameter, a list\n",
    "#    The function should *return* the sum total of all numbers in the list, using a loop\n",
    "def sum(nums:list):\n",
    "    total = 0\n",
    "    for num in nums:\n",
    "        total += num\n",
    "    return total\n",
    "\n",
    "sum([1,2,3,4])"
   ]
  },
  {
   "cell_type": "code",
   "execution_count": 20,
   "metadata": {
    "id": "dZmdNKusw_sQ"
   },
   "outputs": [
    {
     "name": "stdout",
     "output_type": "stream",
     "text": [
      "Introducing John Doe, Esquire!\n"
     ]
    }
   ],
   "source": [
    "# D. Write a function that accepts one parameter, a dictionary\n",
    "#    The function should *print* the message \"Introducing ______ ______, ________!\"\n",
    "#    Fill in the blanks with the \"first_name\", \"last_name\", and \"title\" properties of the dictionary\n",
    "\n",
    "stranger = {'first_name': 'John', 'last_name': 'Doe', 'title': 'Esquire'}\n",
    "\n",
    "def greeter(person):\n",
    "    print(f\"Introducing {person['first_name']} {person['last_name']}, {person['title']}!\")\n",
    "\n",
    "greeter(stranger)"
   ]
  },
  {
   "cell_type": "code",
   "execution_count": 28,
   "metadata": {
    "executionInfo": {
     "elapsed": 4,
     "status": "ok",
     "timestamp": 1723069095748,
     "user": {
      "displayName": "Andrew Riddle",
      "userId": "07427667414263753679"
     },
     "user_tz": 300
    },
    "id": "N6IC9YIs6Rd2"
   },
   "outputs": [
    {
     "name": "stdout",
     "output_type": "stream",
     "text": [
      "Hello, Mark\n",
      "Yo, Phil\n"
     ]
    }
   ],
   "source": [
    "# E. Write a function that accepts two parameters, a name and a salutation.\n",
    "#   The function should *print* the message \"<Salutation>, <name>.\"\n",
    "#   Make the salutation have a default value of \"Hello\"\n",
    "\n",
    "def hello_again(name, salutation=\"Hello\"):\n",
    "    print(f\"{salutation}, {name}\")\n",
    "\n",
    "hello_again(\"Mark\")\n",
    "hello_again(\"Phil\", salutation=\"Yo\")\n"
   ]
  },
  {
   "cell_type": "code",
   "execution_count": 42,
   "metadata": {},
   "outputs": [
    {
     "data": {
      "text/plain": [
       "[4, 3, 2, 1]"
      ]
     },
     "execution_count": 42,
     "metadata": {},
     "output_type": "execute_result"
    }
   ],
   "source": [
    "# Bonus Write a function to reverse a list using a loop. The function should return the reversed list. \n",
    "\n",
    "def reverser(list):\n",
    "    reversed = []\n",
    "    for element in list:\n",
    "        reversed.insert(0, element)\n",
    "    return reversed\n",
    "\n",
    "reverser([1,2,3,4])"
   ]
  },
  {
   "cell_type": "code",
   "execution_count": null,
   "metadata": {
    "id": "9TCECDsaw_sS"
   },
   "outputs": [],
   "source": [
    "# 5.2 Problem-Solving Functions"
   ]
  },
  {
   "cell_type": "code",
   "execution_count": 50,
   "metadata": {
    "id": "CrQW237Aw_sT"
   },
   "outputs": [
    {
     "data": {
      "text/plain": [
       "'greetings'"
      ]
     },
     "execution_count": 50,
     "metadata": {},
     "output_type": "execute_result"
    }
   ],
   "source": [
    "# A. Find the longest string in a given list of strings\n",
    "# Set first element to largest\n",
    "# loop through list and compare to largest\n",
    "# if larger, update largest\n",
    "# return largest\n",
    "\n",
    "def longest(string_list):\n",
    "    largest = string_list[0]\n",
    "    for str in string_list:\n",
    "        if len(str) > len(largest):\n",
    "            largest = str\n",
    "    return largest\n",
    "\n",
    "longest(['word','hi','hello','greetings','yo'])"
   ]
  },
  {
   "cell_type": "code",
   "execution_count": 176,
   "metadata": {
    "id": "tOdwpnrgw_sU"
   },
   "outputs": [
    {
     "data": {
      "text/plain": [
       "False"
      ]
     },
     "execution_count": 176,
     "metadata": {},
     "output_type": "execute_result"
    }
   ],
   "source": [
    "# B. Determine whether a given list contains a given value\n",
    "def checkerv2(list, value):\n",
    "    return value in list\n",
    "\n",
    "checkerv2([1,2,3], 23)\n",
    "    "
   ]
  },
  {
   "cell_type": "code",
   "execution_count": 168,
   "metadata": {
    "id": "GnD8IovRw_sX"
   },
   "outputs": [
    {
     "data": {
      "text/plain": [
       "5"
      ]
     },
     "execution_count": 168,
     "metadata": {},
     "output_type": "execute_result"
    }
   ],
   "source": [
    "# C. Count how many times a given string contains a given letter\n",
    "def checker(string_to_check, given):\n",
    "    count = 0\n",
    "    for letter in string_to_check:\n",
    "        if given == letter:\n",
    "            count += 1\n",
    "    return count\n",
    "\n",
    "checker(\"abracadabra\", \"a\")\n"
   ]
  },
  {
   "cell_type": "code",
   "execution_count": 178,
   "metadata": {
    "id": "3KNFltqSw_sa"
   },
   "outputs": [
    {
     "name": "stdout",
     "output_type": "stream",
     "text": [
      "l\n"
     ]
    }
   ],
   "source": [
    "# D. Find the most common letter in a given string, and use the previous function in your answer\n",
    "# find unique letters in string\n",
    "# loop through list and get the count using checker function\n",
    "# return the matching letter\n",
    "\n",
    "def checker(string_to_check, given):\n",
    "    count = 0\n",
    "    for letter in string_to_check:\n",
    "        if given == letter:\n",
    "            count += 1\n",
    "    return count\n",
    "\n",
    "def commonest(entry_string):\n",
    "    # get unique letters\n",
    "    checklist = [x for x in entry_string]\n",
    "    unique = set(checklist)\n",
    "    unique_list = list(unique)\n",
    "    # now loop through unique_list and get the count using checker function\n",
    "    max_count = 0\n",
    "    most_letter = ''\n",
    "    for letter in unique_list:\n",
    "        letter_count = checker(entry_string, letter)\n",
    "        if  letter_count > max_count:\n",
    "            most_letter = letter\n",
    "            max_count = letter_count\n",
    "    print(most_letter)\n",
    "    \n",
    "commonest(\"hallelujia\")"
   ]
  },
  {
   "cell_type": "code",
   "execution_count": 182,
   "metadata": {
    "id": "m_OGxeu_w_sc"
   },
   "outputs": [
    {
     "data": {
      "text/plain": [
       "10.0"
      ]
     },
     "execution_count": 182,
     "metadata": {},
     "output_type": "execute_result"
    }
   ],
   "source": [
    "# E. Find the area of a triangle given its length and height as parameters\n",
    "def triangle_area(length, height):\n",
    "    return(length * height) / 2\n",
    "\n",
    "triangle_area(4,5)"
   ]
  },
  {
   "cell_type": "code",
   "execution_count": null,
   "metadata": {},
   "outputs": [],
   "source": []
  }
 ],
 "metadata": {
  "colab": {
   "provenance": []
  },
  "kernelspec": {
   "display_name": "Python 3 (ipykernel)",
   "language": "python",
   "name": "python3"
  },
  "language_info": {
   "codemirror_mode": {
    "name": "ipython",
    "version": 3
   },
   "file_extension": ".py",
   "mimetype": "text/x-python",
   "name": "python",
   "nbconvert_exporter": "python",
   "pygments_lexer": "ipython3",
   "version": "3.12.4"
  }
 },
 "nbformat": 4,
 "nbformat_minor": 4
}
