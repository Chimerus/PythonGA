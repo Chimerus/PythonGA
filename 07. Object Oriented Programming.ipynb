{
 "cells": [
  {
   "cell_type": "markdown",
   "metadata": {
    "id": "z_NcqAXKbgky"
   },
   "source": [
    "#### First Class"
   ]
  },
  {
   "cell_type": "code",
   "execution_count": 2,
   "metadata": {
    "id": "sTpW4r0ybgk3"
   },
   "outputs": [],
   "source": [
    "# A. Create a class for musical artists called Musician.\n",
    "# Musicians should have name and genre properties set by parameters in the init method.\n",
    "# Musicians should also have an albums_sold property that always starts at 0.\n",
    "# If the user doesn't provide a genre, the default value should be \"Pop\"\n",
    "\n",
    "class Musician:\n",
    "    def __init__(self, name, genre=\"Pop\"):\n",
    "        self.name = name\n",
    "        self.genre = genre\n",
    "        self.albums = 0\n",
    "    "
   ]
  },
  {
   "cell_type": "code",
   "execution_count": 10,
   "metadata": {
    "id": "WkHNnK_hbgk7"
   },
   "outputs": [
    {
     "name": "stdout",
     "output_type": "stream",
     "text": [
      "Britney Spears in the genre of Pop, with 0 albums sold\n",
      "Elvis Presley in the genre of Rock, with 0 albums sold\n",
      "Eminem in the genre of Rap, with 0 albums sold\n"
     ]
    }
   ],
   "source": [
    "# B. Instantiate, or create, three instances of the Musician class with different names and genres\n",
    "\n",
    "britney = Musician(\"Britney Spears\")\n",
    "elvis = Musician(\"Elvis Presley\", genre=\"Rock\")\n",
    "slim = Musician(\"Eminem\",\"Rap\")\n",
    "\n",
    "musicians = [britney, elvis, slim]\n",
    "for artist in musicians:\n",
    "    print(f\"{artist.name} in the genre of {artist.genre}, with {artist.albums} albums sold\")\n"
   ]
  },
  {
   "cell_type": "markdown",
   "metadata": {
    "id": "bUJOpq5xbgk-"
   },
   "source": [
    "#### House of Cards"
   ]
  },
  {
   "cell_type": "code",
   "execution_count": 28,
   "metadata": {
    "id": "LU5eeu6Ybgk_"
   },
   "outputs": [],
   "source": [
    "# A. Create a Card class with two properties:\n",
    "# Suit (Hearts, Clubs, Spades, or Diamonds)\n",
    "# Face (2 through 10, Jack, Queen, King, or Ace)\n",
    "class Card:\n",
    "    def __init__(self, suit, face):\n",
    "        self.suit = suit\n",
    "        self.face = face"
   ]
  },
  {
   "cell_type": "code",
   "execution_count": 22,
   "metadata": {
    "id": "Zmj16RkNbglA"
   },
   "outputs": [
    {
     "name": "stdout",
     "output_type": "stream",
     "text": [
      "2 of Hearts\n",
      "3 of Hearts\n",
      "4 of Hearts\n",
      "5 of Hearts\n",
      "6 of Hearts\n",
      "7 of Hearts\n",
      "8 of Hearts\n",
      "9 of Hearts\n",
      "10 of Hearts\n",
      "Jack of Hearts\n",
      "Queen of Hearts\n",
      "King of Hearts\n",
      "Ace of Hearts\n",
      "2 of Clubs\n",
      "3 of Clubs\n",
      "4 of Clubs\n",
      "5 of Clubs\n",
      "6 of Clubs\n",
      "7 of Clubs\n",
      "8 of Clubs\n",
      "9 of Clubs\n",
      "10 of Clubs\n",
      "Jack of Clubs\n",
      "Queen of Clubs\n",
      "King of Clubs\n",
      "Ace of Clubs\n",
      "2 of Spades\n",
      "3 of Spades\n",
      "4 of Spades\n",
      "5 of Spades\n",
      "6 of Spades\n",
      "7 of Spades\n",
      "8 of Spades\n",
      "9 of Spades\n",
      "10 of Spades\n",
      "Jack of Spades\n",
      "Queen of Spades\n",
      "King of Spades\n",
      "Ace of Spades\n",
      "2 of Diamonds\n",
      "3 of Diamonds\n",
      "4 of Diamonds\n",
      "5 of Diamonds\n",
      "6 of Diamonds\n",
      "7 of Diamonds\n",
      "8 of Diamonds\n",
      "9 of Diamonds\n",
      "10 of Diamonds\n",
      "Jack of Diamonds\n",
      "Queen of Diamonds\n",
      "King of Diamonds\n",
      "Ace of Diamonds\n"
     ]
    }
   ],
   "source": [
    "# B. Then, fill up the cards list with cards containing all 52 combinations of the above properties.\n",
    "# Hint: You will want to create lists of the possible suits and faces so you can loop through them\n",
    "\n",
    "suits = [\"Hearts\", \"Clubs\", \"Spades\", \"Diamonds\"]\n",
    "faces = [\"2\",\"3\",\"4\",\"5\",\"6\",\"7\",\"8\",\"9\",\"10\", \"Jack\", \"Queen\", \"King\", \"Ace\"]\n",
    "\n",
    "decklist = []\n",
    "for suit in suits:\n",
    "    for face in faces:\n",
    "        card = Card(suit, face)\n",
    "        decklist.append(card)\n",
    "for card in decklist:\n",
    "    print(f\"{card.face} of {card.suit}\")"
   ]
  },
  {
   "cell_type": "code",
   "execution_count": 34,
   "metadata": {},
   "outputs": [
    {
     "data": {
      "text/plain": [
       "[<__main__.Card at 0x1164d97cd10>,\n",
       " <__main__.Card at 0x1164d97f560>,\n",
       " <__main__.Card at 0x1164d97f440>,\n",
       " <__main__.Card at 0x1164d97cf20>,\n",
       " <__main__.Card at 0x1164d97cfe0>,\n",
       " <__main__.Card at 0x1164d97d130>,\n",
       " <__main__.Card at 0x1164d97fb90>,\n",
       " <__main__.Card at 0x1164d97cf80>,\n",
       " <__main__.Card at 0x1164d97cec0>,\n",
       " <__main__.Card at 0x1164d97ca10>,\n",
       " <__main__.Card at 0x1164d97cda0>,\n",
       " <__main__.Card at 0x1164d97cef0>,\n",
       " <__main__.Card at 0x1164d97e4e0>,\n",
       " <__main__.Card at 0x1164d97c9b0>,\n",
       " <__main__.Card at 0x1164d97c6e0>,\n",
       " <__main__.Card at 0x1164d97e420>,\n",
       " <__main__.Card at 0x1164d97e2d0>,\n",
       " <__main__.Card at 0x1164d97fe90>,\n",
       " <__main__.Card at 0x1164d97e660>,\n",
       " <__main__.Card at 0x1164d97f8f0>,\n",
       " <__main__.Card at 0x1164d97ff20>,\n",
       " <__main__.Card at 0x1164d97f920>,\n",
       " <__main__.Card at 0x1164d97fc50>,\n",
       " <__main__.Card at 0x1164d97fe00>,\n",
       " <__main__.Card at 0x1164d97fce0>,\n",
       " <__main__.Card at 0x1164d97fe30>,\n",
       " <__main__.Card at 0x1164d97f8c0>,\n",
       " <__main__.Card at 0x1164d97f470>,\n",
       " <__main__.Card at 0x1164d97f1a0>,\n",
       " <__main__.Card at 0x1164d97ff80>,\n",
       " <__main__.Card at 0x1164d97d2e0>,\n",
       " <__main__.Card at 0x1164d97f740>,\n",
       " <__main__.Card at 0x1164d97d100>,\n",
       " <__main__.Card at 0x1164d97f950>,\n",
       " <__main__.Card at 0x1164d97f050>,\n",
       " <__main__.Card at 0x1164d97fc80>,\n",
       " <__main__.Card at 0x1164d97ce60>,\n",
       " <__main__.Card at 0x1164d97fd10>,\n",
       " <__main__.Card at 0x1164d97d0d0>,\n",
       " <__main__.Card at 0x1164d97efc0>,\n",
       " <__main__.Card at 0x1164d97f5c0>,\n",
       " <__main__.Card at 0x1164d97ec90>,\n",
       " <__main__.Card at 0x1164d97f260>,\n",
       " <__main__.Card at 0x1164d9840b0>,\n",
       " <__main__.Card at 0x1164d984740>,\n",
       " <__main__.Card at 0x1164d984fe0>,\n",
       " <__main__.Card at 0x1164d985430>,\n",
       " <__main__.Card at 0x1164d984aa0>,\n",
       " <__main__.Card at 0x1164d985310>,\n",
       " <__main__.Card at 0x1164d984350>,\n",
       " <__main__.Card at 0x1164d985400>,\n",
       " <__main__.Card at 0x1164d9856d0>]"
      ]
     },
     "execution_count": 34,
     "metadata": {},
     "output_type": "execute_result"
    }
   ],
   "source": [
    "# bonus Deck class with propery cards that holds 52 cards\n",
    "class Deck:\n",
    "    def __init__(self):\n",
    "        suits = [\"Hearts\", \"Clubs\", \"Spades\", \"Diamonds\"]\n",
    "        faces = [\"2\",\"3\",\"4\",\"5\",\"6\",\"7\",\"8\",\"9\",\"10\", \"Jack\", \"Queen\", \"King\", \"Ace\"]\n",
    "        \n",
    "        decklist = []\n",
    "        for suit in suits:\n",
    "            for face in faces:\n",
    "                card = Card(suit, face)\n",
    "                decklist.append(card)\n",
    "        self.cards = decklist\n",
    "\n",
    "d52 = Deck()\n",
    "d52.cards"
   ]
  },
  {
   "cell_type": "markdown",
   "metadata": {
    "id": "HWCrgs1lbglC"
   },
   "source": [
    "#### Getting the Band Together\n",
    "Create a Band class. A Band should have the following properties and methods:  \n",
    "- name: String  \n",
    "- members: a list of Strings, defaults to an empty list  \n",
    "- introduce_lineup(): a method that prints all of the strings in members  \n",
    "- add_member(new_member): a method that adds a new member to the members then invokes introduce_lineup\n",
    "- kick_out(old_member): a method that removes the given member from the members list. If the members list is empty, add a disbanded property equal to True. Otherwise, invoke introduce_lineup\n",
    "\n"
   ]
  },
  {
   "cell_type": "code",
   "execution_count": 112,
   "metadata": {
    "id": "2nIRP8EnbglD"
   },
   "outputs": [
    {
     "name": "stdout",
     "output_type": "stream",
     "text": [
      "Here's the lineup for Test!\n",
      "Hello\n",
      "World\n",
      "Welcome, foo\n",
      "Here's the lineup for Test!\n",
      "Hello\n",
      "World\n",
      "foo\n",
      "Here's the lineup for Test!\n",
      "World\n",
      "foo\n",
      "Here's the lineup for Test!\n",
      "foo\n",
      "Bands gone\n"
     ]
    }
   ],
   "source": [
    "class Band:\n",
    "    def __init__(self, name, members=[]):\n",
    "        self.name = name\n",
    "        self.members = members\n",
    "    \n",
    "    def introduce_lineup(self):\n",
    "        print(f\"Here's the lineup for {self.name}!\")\n",
    "        for member in self.members:\n",
    "            print(member)\n",
    "\n",
    "    def add_member(self, new_member):\n",
    "        print(f\"Welcome, {new_member}\")\n",
    "        self.members.append(new_member)\n",
    "        self.introduce_lineup()\n",
    "\n",
    "    def kick_out(self, old_member):\n",
    "        self.members.remove(old_member)\n",
    "        if self.members:\n",
    "            self.introduce_lineup()\n",
    "        else:\n",
    "            self.disbanded = True\n",
    "            print(\"Bands gone\")\n",
    "\n",
    "new_band = Band(\"Test\",[\"Hello\", \"World\"])\n",
    "new_band.introduce_lineup()\n",
    "new_band.add_member(\"foo\")\n",
    "new_band.kick_out(\"Hello\")\n",
    "new_band.kick_out(\"World\")\n",
    "new_band.kick_out(\"foo\")"
   ]
  },
  {
   "cell_type": "markdown",
   "metadata": {
    "id": "9bUDLqeabglE"
   },
   "source": [
    "#### Bands part 2\n",
    "Create the following subclasses that extend the Band class functionality"
   ]
  },
  {
   "cell_type": "code",
   "execution_count": 100,
   "metadata": {
    "id": "xIeyuMoPbglG"
   },
   "outputs": [
    {
     "name": "stdout",
     "output_type": "stream",
     "text": [
      "Here's the lineup for The Clash\n",
      "Joe Strummer\n",
      "Mick Jones\n",
      "Paul Simonon\n",
      "Topper Headon\n",
      "The Clash sold out for 8000! BOO!\n",
      "The Clash destroyed hotel room! Righteous!\n"
     ]
    }
   ],
   "source": [
    "# A. Punk bands have a street_cred property set to True and earnings property set to 0\n",
    "# sell_out(amount): a method that changes street_cred to False and earnings increase by amount\n",
    "# destroy_hotel_room(): a method that changes street_cred to True and earnings decrease by 5000\n",
    "class Punk(Band):\n",
    "    def __init__(self, name, members=[]):\n",
    "        self.street_cred = True\n",
    "        self.earnings = 0\n",
    "        super().__init__(name, members)\n",
    "\n",
    "    def sell_out(self, amount):\n",
    "        print(f\"{self.name} sold out for {amount}! BOO!\")\n",
    "        self.street_cred = False\n",
    "        self.earnings += amount\n",
    "\n",
    "    def destroy_hotel_room(self):\n",
    "        print(f\"{self.name} destroyed hotel room! Righteous!\")\n",
    "        self.street_cred = True\n",
    "        self.earnings -= 5000\n",
    "\n",
    "punk = Punk(\"The Clash\",[\"Joe Strummer\",\"Mick Jones\", \"Paul Simonon\",\"Topper Headon\"])\n",
    "\n",
    "punk.introduce_lineup()\n",
    "punk.sell_out(8000)\n",
    "punk.destroy_hotel_room()"
   ]
  },
  {
   "cell_type": "code",
   "execution_count": 116,
   "metadata": {
    "id": "CSiw5oKjbglG"
   },
   "outputs": [
    {
     "name": "stdout",
     "output_type": "stream",
     "text": [
      "Here's the lineup for Jazzy!\n",
      "Jazzy Jeff\n",
      "Billy C\n",
      "Epic Sax\n",
      "Jazzy songlist: ['Free Jazz', 'Jazzercise']\n",
      "Jazzy Jeff is cooking!\n",
      "Billy C is cooking!\n",
      "Epic Sax is cooking!\n"
     ]
    }
   ],
   "source": [
    "# B. Jazz bands have a songbook property set to an empty list\n",
    "# add_song(song_title): a method that adds the given song_title to the songbook\n",
    "# solo(): a method that prints a message saying \"____ is cooking!\" \n",
    "# fill in the blank with the first string in the members list, then move that member to the end of the list\n",
    "class Jazz(Band):\n",
    "    def __init__(self, name, members=[]):\n",
    "        self.songbook = []\n",
    "        super().__init__(name, members)\n",
    "\n",
    "    def add_song(self, song_title):\n",
    "        self.songbook.append(song_title)\n",
    "\n",
    "    def solo(self):\n",
    "        soloist = self.members.pop(0)\n",
    "        print(f\"{soloist} is cooking!\")\n",
    "        self.members.append(soloist)\n",
    "\n",
    "jazz = Jazz(\"Jazzy\",[\"Jazzy Jeff\",\"Billy C\", \"Epic Sax\"])\n",
    "jazz.introduce_lineup()\n",
    "jazz.add_song(\"Free Jazz\")\n",
    "jazz.add_song(\"Jazzercise\")\n",
    "print(f\"{jazz.name} songlist: {jazz.songbook}\")\n",
    "jazz.solo()\n",
    "jazz.solo()\n",
    "jazz.solo()"
   ]
  },
  {
   "cell_type": "markdown",
   "metadata": {
    "id": "RlZq95iqbglI"
   },
   "source": [
    "#### RPG Characters\n",
    "Use inheritance to set up a combat simulation for a Role-Playing Game. The Character class will set up default properties for every character in the game, while the more specific classes will create more interesting, playable characters."
   ]
  },
  {
   "cell_type": "code",
   "execution_count": 73,
   "metadata": {
    "id": "2DUAgs9IbglJ"
   },
   "outputs": [],
   "source": [
    "# A. Create a Character class with the following properties and methods:\n",
    "# health: default 100, damage: default 10, items: default empty list\n",
    "# attack(target): lowers the target's health property by the character's damage property\n",
    "# display_stats(): prints a message including the characters health, damage, and items\n",
    "\n",
    "class Character:\n",
    "    def __init__(self, health=100, damage=10, items=[]):\n",
    "        self.health = health\n",
    "        self.damage = damage\n",
    "        self.items = items\n",
    "\n",
    "    def attack(self, target):\n",
    "        target.health -= self.damage\n",
    "    \n",
    "    def display_stats(self):\n",
    "        print(f\"Health: {self.health}, Damage: {self.damage}, Items: {self.items}\")"
   ]
  },
  {
   "cell_type": "code",
   "execution_count": 75,
   "metadata": {
    "id": "1ervxamfbglK"
   },
   "outputs": [],
   "source": [
    "# B. The Fighter class should inherit from the character class with the following additions:\n",
    "# health is always 200, damage is always 15, items includes \"magic sword\"\n",
    "# a new property named berserker that defaults to 2\n",
    "# beast_mode(target): use the attack() method on the target X times, where X is the berserker amount. The Fighter loses 5 health for each attack.\n",
    "class Fighter(Character):\n",
    "    def __init__(self):\n",
    "        self.berserker = 2\n",
    "        super().__init__(200, 15, [\"magic sword\"])\n",
    "\n",
    "    def beast_mode(self, target):\n",
    "        for x in range(0, self.berserker):\n",
    "            self.health -= 5\n",
    "            self.attack(target)"
   ]
  },
  {
   "cell_type": "code",
   "execution_count": 77,
   "metadata": {
    "id": "dBtOjYgxbglL"
   },
   "outputs": [],
   "source": [
    "# C. The Wizard class should inherit from the character class with the following additions:\n",
    "# health is 75, damage is 30, items includes \"health_potion\" and \"strength_potion\"\n",
    "# heal(target): if the items list contains \"health_potion\", remove one and increase target's health by 25\n",
    "# buff(target): if the items list contains \"strength_potion\", remove one and increase target's damage by 10\n",
    "class Wizard(Character):\n",
    "    def __init__(self):\n",
    "        super().__init__(75, 30, [\"health_potion\",\"strength_potion\"])\n",
    "\n",
    "    def heal(self, target):\n",
    "        if \"health_potion\" in self.items:\n",
    "            self.items.remove(\"health_potion\")\n",
    "            target.health += 25\n",
    "\n",
    "    def buff(self, target):\n",
    "        if \"strength_potion\" in self.items:\n",
    "            self.items.remove(\"strength_potion\")\n",
    "            target.damage += 10"
   ]
  },
  {
   "cell_type": "code",
   "execution_count": 79,
   "metadata": {
    "id": "wmy7ijG-bglM"
   },
   "outputs": [
    {
     "name": "stdout",
     "output_type": "stream",
     "text": [
      "After 1 rounds of combat:\n",
      "The orc\n",
      "Health: 70, Damage: 5, Items: []\n",
      "alfhildr\n",
      "Health: 185, Damage: 25, Items: ['magic sword']\n",
      "gandalf\n",
      "Health: 75, Damage: 30, Items: ['health_potion']\n",
      "After 2 rounds of combat:\n",
      "The orc\n",
      "Health: 20, Damage: 5, Items: []\n",
      "alfhildr\n",
      "Health: 195, Damage: 25, Items: ['magic sword']\n",
      "gandalf\n",
      "Health: 75, Damage: 30, Items: []\n",
      "After 3 rounds of combat:\n",
      "The orc\n",
      "Health: -60, Damage: 5, Items: []\n",
      "alfhildr\n",
      "Health: 180, Damage: 25, Items: ['magic sword']\n",
      "gandalf\n",
      "Health: 75, Damage: 30, Items: []\n"
     ]
    }
   ],
   "source": [
    "# Test the classes using this combat simulation below. It should run without errors.\n",
    "alfhildr = Fighter()\n",
    "gandalf = Wizard()\n",
    "orc = Character(100, 5)\n",
    "rounds_of_combat = 1 \n",
    "while(orc.health > 0 and alfhildr.health > 0):\n",
    "    orc.attack(alfhildr)\n",
    "    alfhildr.beast_mode(orc)\n",
    "    if \"strength_potion\" in gandalf.items:\n",
    "        gandalf.buff(alfhildr)\n",
    "    elif \"health_potion\" in gandalf.items:\n",
    "        gandalf.heal(alfhildr)\n",
    "    else:\n",
    "        gandalf.attack(orc)\n",
    "    print(f\"After {rounds_of_combat} rounds of combat:\")\n",
    "    print(f\"The orc\")\n",
    "    orc.display_stats()\n",
    "    print(f\"alfhildr\")\n",
    "    alfhildr.display_stats()\n",
    "    print(f\"gandalf\")\n",
    "    gandalf.display_stats()\n",
    "    rounds_of_combat += 1"
   ]
  },
  {
   "cell_type": "code",
   "execution_count": 81,
   "metadata": {
    "id": "PvAFSQGHbglN"
   },
   "outputs": [],
   "source": [
    "# The output should look like the following log:\n",
    "# After 1 rounds of combat:\n",
    "# The orc\n",
    "# Health: 70 Damage: 5 Items: []\n",
    "# alfhildr\n",
    "# Health: 185 Damage: 25 Items: ['magic sword']\n",
    "# gandalf\n",
    "# Health: 75 Damage: 30 Items: ['health_potion']\n",
    "# After 2 rounds of combat:\n",
    "# The orc\n",
    "# Health: 20 Damage: 5 Items: []\n",
    "# alfhildr\n",
    "# Health: 195 Damage: 25 Items: ['magic sword']\n",
    "# gandalf\n",
    "# Health: 75 Damage: 30 Items: []\n",
    "# After 3 rounds of combat:\n",
    "# The orc\n",
    "# Health: -60 Damage: 5 Items: []\n",
    "# alfhildr\n",
    "# Health: 180 Damage: 25 Items: ['magic sword']\n",
    "# gandalf\n",
    "# Health: 75 Damage: 30 Items: []"
   ]
  }
 ],
 "metadata": {
  "colab": {
   "provenance": []
  },
  "kernelspec": {
   "display_name": "Python 3 (ipykernel)",
   "language": "python",
   "name": "python3"
  },
  "language_info": {
   "codemirror_mode": {
    "name": "ipython",
    "version": 3
   },
   "file_extension": ".py",
   "mimetype": "text/x-python",
   "name": "python",
   "nbconvert_exporter": "python",
   "pygments_lexer": "ipython3",
   "version": "3.12.4"
  }
 },
 "nbformat": 4,
 "nbformat_minor": 4
}
