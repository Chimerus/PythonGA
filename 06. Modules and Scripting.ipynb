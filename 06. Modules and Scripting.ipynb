{
 "cells": [
  {
   "cell_type": "code",
   "execution_count": 21,
   "metadata": {
    "id": "diFudXnP4eZu"
   },
   "outputs": [
    {
     "name": "stdout",
     "output_type": "stream",
     "text": [
      "% of Heads is 44.0\n"
     ]
    }
   ],
   "source": [
    "# 6.1 Games of Chance\n",
    "import random\n",
    "# A. Simulate flipping a coin 100 times, then print the percentage of results that were \"heads\"\n",
    "heads = 0\n",
    "tails = 0\n",
    "\n",
    "for x in range(100):\n",
    "    flip = random.randint(0,1)\n",
    "    if flip == 0:\n",
    "        heads += 1\n",
    "    else:\n",
    "        tails += 1\n",
    "\n",
    "print(f\"% of Heads is {(heads/(heads+tails) * 100)}\")\n",
    "\n",
    "# num_flips = 100\n",
    "# flips = random.choices(['heads','tails'], k=num_flips)\n",
    "# flips.count('heads') / num_flips"
   ]
  },
  {
   "cell_type": "code",
   "execution_count": 23,
   "metadata": {
    "id": "6aQaUGav4eZw"
   },
   "outputs": [
    {
     "name": "stdout",
     "output_type": "stream",
     "text": [
      "On roll #1 the result was blue\n",
      "On roll #2 the result was blue\n",
      "On roll #3 the result was blue\n",
      "On roll #4 the result was blue\n",
      "On roll #5 the result was blue\n",
      "On roll #6 the result was blue\n",
      "On roll #7 the result was blue\n",
      "On roll #8 the result was yellow\n"
     ]
    }
   ],
   "source": [
    "# B. Randomly choose an element until you choose \"yellow\", incrememting rolls each time\n",
    "#    Print a message each time including how many rolls have been executed and what the result was\n",
    "rolls = 0\n",
    "sides = [\"blue\", \"blue\", \"blue\", \"blue\", \"yellow\", \"blue\"]\n",
    "choice = \"\"\n",
    "while choice != \"yellow\":\n",
    "    rolls += 1\n",
    "    choice = random.choice(sides)\n",
    "    print(f\"On roll #{rolls} the result was {choice}\")"
   ]
  },
  {
   "cell_type": "code",
   "execution_count": 25,
   "metadata": {
    "id": "pmbfTYLr4eZy"
   },
   "outputs": [
    {
     "name": "stdout",
     "output_type": "stream",
     "text": [
      "Spin result is blue | blue | blue : Win Coins 8\n",
      "Spin result is yellow | blue | blue : Lose Coins 7\n",
      "Spin result is blue | blue | blue : Win Coins 8\n",
      "Spin result is blue | blue | blue : Win Coins 9\n",
      "Spin result is blue | blue | blue : Win Coins 10\n",
      "Spin result is blue | blue | blue : Win Coins 11\n"
     ]
    }
   ],
   "source": [
    "# C. Simulate a slot machine with the following rules:\n",
    "#    i. Each turn, the player loses 1 coin and three random elements are chosen\n",
    "#    ii. If the three elements are all the same, the player wins 2 coins\n",
    "#    iii. If all three elements are different, the player wins 5 coins\n",
    "#    The player starts with 7 coins\n",
    "#    Continue taking turns until the player has 0 coins or more than 10 coins\n",
    "#    Each turn, print a message describing the outcome of the machine\n",
    "elements = [\"red\", \"green\", \"blue\"]\n",
    "player_coins = 7\n",
    "\n",
    "while 0 < player_coins <= 10:\n",
    "    player_coins -= 1\n",
    "    wheel1 = random.choice(sides)\n",
    "    wheel2 = random.choice(sides)\n",
    "    wheel3 = random.choice(sides)\n",
    "    # instead could do: elements_chosen = random.choices(elements, k=3)\n",
    "    # could use set here and check size of set!\n",
    "\n",
    "    message = \"Lose\"\n",
    "    if wheel1 == wheel2 == wheel3:\n",
    "        player_coins += 2\n",
    "        message = \"Win\"\n",
    "    elif wheel1 != wheel2 and wheel2 != wheel3 and wheel3 != wheel1:\n",
    "        player_coins += 5\n",
    "        message = \"Jackpot!\"\n",
    "    print(f\"Spin result is {wheel1} | {wheel2} | {wheel3} : {message} Coins {player_coins}\")\n"
   ]
  },
  {
   "cell_type": "markdown",
   "metadata": {
    "id": "zdgYT9MPINZU"
   },
   "source": [
    "---\n",
    "## 6.2 GeoCoder Road Trip\n",
    "A:\n",
    "- Install and import the geocoder library: https://geocoder.readthedocs.io/index.html\n",
    "- Then, print a statement describing the latitude and longitude of our first destination, Space Needle\n",
    "\n",
    "HINT: the [arcgis method](https://geocoder.readthedocs.io/providers/ArcGIS.html#geocoding) will be the easiest option, as it requires no API key"
   ]
  },
  {
   "cell_type": "code",
   "execution_count": 27,
   "metadata": {
    "id": "QW_dfJPsIwbT"
   },
   "outputs": [
    {
     "name": "stdout",
     "output_type": "stream",
     "text": [
      "Collecting geocoder\n",
      "  Downloading geocoder-1.38.1-py2.py3-none-any.whl.metadata (14 kB)\n",
      "Requirement already satisfied: click in c:\\users\\jlc37\\anaconda3\\lib\\site-packages (from geocoder) (8.1.7)\n",
      "Collecting future (from geocoder)\n",
      "  Downloading future-1.0.0-py3-none-any.whl.metadata (4.0 kB)\n",
      "Collecting ratelim (from geocoder)\n",
      "  Downloading ratelim-0.1.6-py2.py3-none-any.whl.metadata (1.4 kB)\n",
      "Requirement already satisfied: requests in c:\\users\\jlc37\\anaconda3\\lib\\site-packages (from geocoder) (2.32.2)\n",
      "Requirement already satisfied: six in c:\\users\\jlc37\\anaconda3\\lib\\site-packages (from geocoder) (1.16.0)\n",
      "Requirement already satisfied: colorama in c:\\users\\jlc37\\anaconda3\\lib\\site-packages (from click->geocoder) (0.4.6)\n",
      "Requirement already satisfied: decorator in c:\\users\\jlc37\\anaconda3\\lib\\site-packages (from ratelim->geocoder) (5.1.1)\n",
      "Requirement already satisfied: charset-normalizer<4,>=2 in c:\\users\\jlc37\\anaconda3\\lib\\site-packages (from requests->geocoder) (2.0.4)\n",
      "Requirement already satisfied: idna<4,>=2.5 in c:\\users\\jlc37\\anaconda3\\lib\\site-packages (from requests->geocoder) (3.7)\n",
      "Requirement already satisfied: urllib3<3,>=1.21.1 in c:\\users\\jlc37\\anaconda3\\lib\\site-packages (from requests->geocoder) (2.2.2)\n",
      "Requirement already satisfied: certifi>=2017.4.17 in c:\\users\\jlc37\\anaconda3\\lib\\site-packages (from requests->geocoder) (2024.7.4)\n",
      "Downloading geocoder-1.38.1-py2.py3-none-any.whl (98 kB)\n",
      "   ---------------------------------------- 0.0/98.6 kB ? eta -:--:--\n",
      "   ------------ --------------------------- 30.7/98.6 kB 660.6 kB/s eta 0:00:01\n",
      "   ---------------------------------------- 98.6/98.6 kB 1.4 MB/s eta 0:00:00\n",
      "Downloading future-1.0.0-py3-none-any.whl (491 kB)\n",
      "   ---------------------------------------- 0.0/491.3 kB ? eta -:--:--\n",
      "   --------------------------------------- 491.3/491.3 kB 10.2 MB/s eta 0:00:00\n",
      "Downloading ratelim-0.1.6-py2.py3-none-any.whl (4.0 kB)\n",
      "Installing collected packages: ratelim, future, geocoder\n",
      "Successfully installed future-1.0.0 geocoder-1.38.1 ratelim-0.1.6\n"
     ]
    }
   ],
   "source": [
    "# install geocoder\n",
    "!pip install geocoder"
   ]
  },
  {
   "cell_type": "code",
   "execution_count": 58,
   "metadata": {},
   "outputs": [
    {
     "name": "stdout",
     "output_type": "stream",
     "text": [
      "The Space Needle is located at Latitude 47.6203856, Longitude -122.3492828\n"
     ]
    }
   ],
   "source": [
    "import geocoder\n",
    "destination = 'Space Needle'\n",
    "g = geocoder.arcgis(destination)\n",
    "location = g.json\n",
    "print(f\"The {destination} is located at Latitude {location['lat']}, Longitude {location['lng']}\")"
   ]
  },
  {
   "cell_type": "code",
   "execution_count": 60,
   "metadata": {
    "id": "1Z3AtG8a4eZz"
   },
   "outputs": [],
   "source": [
    "# 6.2 GeoCoder Road Trip\n",
    "destinations = [\"Space Needle\",\n",
    "                \"Crater Lake\",\n",
    "                \"Golden Gate Bridge\",\n",
    "                \"Yosemite National Park\",\n",
    "                \"Las Vegas, Nevada\",\n",
    "                \"Grand Canyon National Park\",\n",
    "                \"Aspen, Colorado\",\n",
    "                \"Mount Rushmore\",\n",
    "                \"Yellowstone National Park\",\n",
    "                \"Sandpoint, Idaho\",\n",
    "                \"Banff National Park\",\n",
    "                \"Capilano Suspension Bridge\"]\n"
   ]
  },
  {
   "cell_type": "code",
   "execution_count": 68,
   "metadata": {
    "id": "j2FiFqkx4eZ0"
   },
   "outputs": [
    {
     "name": "stdout",
     "output_type": "stream",
     "text": [
      "[47.6203856, -122.3492828]\n",
      "[-37.9648719, 146.3929588]\n",
      "[37.8077584, -122.47483]\n",
      "[37.7471174, -119.5844356]\n",
      "[36.1690921, -115.1405767]\n",
      "[36.0591059, -112.1091973]\n",
      "[39.190665, -106.819201]\n",
      "[43.88027000000005, -103.45879999999994]\n",
      "[44.4582059, -110.8296464]\n",
      "[48.276098, -116.553386]\n",
      "[51.1779618, -115.5702414]\n",
      "[49.34295000000003, -123.11483999999996]\n",
      "The farthest south location is Crater Lake at -37.9648719\n"
     ]
    }
   ],
   "source": [
    "# B. Find the farthest south destination (the result with the lowest latitude)\n",
    "latitude = 90\n",
    "destination = \"\"\n",
    "\n",
    "for place in destinations:\n",
    "    g = geocoder.arcgis(place)\n",
    "    result = g.latlng\n",
    "    print(g.latlng)\n",
    "    place_lat = result[0]\n",
    "    if place_lat < latitude:\n",
    "        latitude = place_lat\n",
    "        destination = place\n",
    "\n",
    "print(f\"The farthest south location is {destination} at {latitude}\")\n"
   ]
  },
  {
   "cell_type": "code",
   "execution_count": 72,
   "metadata": {
    "id": "XCtGrC2e4eZ1"
   },
   "outputs": [
    {
     "name": "stdout",
     "output_type": "stream",
     "text": [
      "Starting in Space Needle at 47.6203856, -122.3492828\n",
      "Next, we travel SouthEast to Crater Lake\n",
      "Next, we travel SouthWest to Golden Gate Bridge\n",
      "Next, we travel SouthEast to Yosemite National Park\n",
      "Next, we travel SouthEast to Las Vegas, Nevada\n",
      "Next, we travel SouthEast to Grand Canyon National Park\n",
      "Next, we travel SouthEast to Aspen, Colorado\n",
      "Next, we travel SouthEast to Mount Rushmore\n",
      "Next, we travel SouthEast to Yellowstone National Park\n",
      "Next, we travel NorthEast to Sandpoint, Idaho\n",
      "Next, we travel NorthEast to Banff National Park\n",
      "Next, we travel NorthWest to Capilano Suspension Bridge\n"
     ]
    }
   ],
   "source": [
    "# C. For each destination, describe the direction being traveled from the previous destination\n",
    "#    Hint: You can keep track of where we are using current_lat and current_lng variables\n",
    "#    If the next destination has a greater latitude, it means we're going North\n",
    "#    If the next destination has a greater longitude, it means we're going East\n",
    "#    Print a message in the following format: \"Next, we travel SouthWest to XXXXX\"\n",
    "\n",
    "g = geocoder.arcgis(destinations[0])\n",
    "result = g.latlng\n",
    "\n",
    "last_latitude = result[0]\n",
    "last_longitude = result[1]\n",
    "\n",
    "print(f\"Starting in {destinations[0]} at {last_latitude}, {last_longitude}\")\n",
    "\n",
    "for place in destinations[1:]:\n",
    "    g = geocoder.arcgis(place)\n",
    "    result = g.latlng\n",
    "    latitude = result[0]\n",
    "    longitude = result[1]\n",
    "    ns = \"North\" if latitude > last_latitude else \"South\"\n",
    "    ew = \"East\" if longitude > last_longitude else \"West\"\n",
    "    print(f\"Next, we travel {ns}{ew} to {place}\")"
   ]
  },
  {
   "cell_type": "code",
   "execution_count": null,
   "metadata": {
    "id": "KI28Sh4A4eZ2"
   },
   "outputs": [],
   "source": [
    "# 6.3 So Much To Do\n",
    "# Reading code can be just as important as writing code!\n",
    "# Add a comment to each line of this python script, attempting to explain what it does\n",
    "\n",
    "with open(\"./to_do_list.txt\", \"a+\") as file: # opening text file \"to_do_list\" in current directory in append mode \n",
    "    print(\"Welcome to ToDoVille! Here are your items:\") # prints \"Welcome to ToDoVille! Here are your items:\"\n",
    "    file.seek(0) # Go to beinning of file\n",
    "    lines = file.readlines() # turns each line of text into a list\n",
    "    for line in lines: # loop through that list\n",
    "        print(line) # prints the line\n",
    "    current_command = \"\" # initialize current_command to empty string\n",
    "    while(current_command != \"q\"): # loop until user inputs \"q\"\n",
    "        current_command = input(\"Awaiting further commands. [q] to quit, [a] to add new item, [p] to print list: \") # prompt user for command\n",
    "        if(current_command == \"a\"): # if user inputs \"a\" run code below\n",
    "            new_item = input(\"Type your todo below: \") # query user for input\n",
    "            file.write(new_item + \"\\n\") # write the users input with a newline\n",
    "        elif(current_command == \"p\"): # if user inputs \"p\" run below code\n",
    "            file.seek(0) # go to beginning of file\n",
    "            lines = file.readlines() # turns each line of text into a list\n",
    "            for line in lines: # loop through that list\n",
    "                print(line) # print that item"
   ]
  },
  {
   "cell_type": "code",
   "execution_count": 36,
   "metadata": {
    "id": "MIdVJo2D4eZ2"
   },
   "outputs": [],
   "source": [
    "# 6.4 Writing to CSV\n",
    "employees = [\n",
    "  {\n",
    "    \"first_name\": \"Hennah\",\n",
    "    \"last_name\": \"Chadwick\",\n",
    "    \"job_title\": \"Vice President\",\n",
    "    \"hire_date\": 1985,\n",
    "    \"performance_review\": \"excellent\"\n",
    "  }, {\n",
    "    \"first_name\": \"Michael\",\n",
    "    \"last_name\": \"Bolton\",\n",
    "    \"job_title\": \"Programmer\",\n",
    "    \"hire_date\": 1995,\n",
    "    \"performance_review\": \"poor\"\n",
    "  }, {\n",
    "    \"first_name\": \"Ellesse\",\n",
    "    \"last_name\": \"Jaramillo\",\n",
    "    \"job_title\": \"Programmer\",\n",
    "    \"hire_date\": 1989,\n",
    "    \"performance_review\": \"poor\"\n",
    "  }, {\n",
    "    \"first_name\": \"Samir\",\n",
    "    \"last_name\": \"Nagheenanajar\",\n",
    "    \"job_title\": \"Programmer\",\n",
    "    \"hire_date\": 1974,\n",
    "    \"performance_review\": \"fair\"\n",
    "  }, {\n",
    "    \"first_name\": \"Milton\",\n",
    "    \"last_name\": \"Waddams\",\n",
    "    \"job_title\": \"Collator\",\n",
    "    \"hire_date\": 1974,\n",
    "    \"performance_review\": \"does he even work here?\"\n",
    "  }, {\n",
    "    \"first_name\": \"Bob\",\n",
    "    \"last_name\": \"Porter\",\n",
    "    \"job_title\": \"Consultant\",\n",
    "    \"hire_date\": 1999,\n",
    "    \"performance_review\": \"excellent\"\n",
    "  }, {\n",
    "    \"first_name\": \"Bob\",\n",
    "    \"last_name\": \"Slydell\",\n",
    "    \"job_title\": \"Consultant\",\n",
    "    \"hire_date\": 1999,\n",
    "    \"performance_review\": \"excellent\"\n",
    "  }\n",
    "]\n",
    "# A. Write the above list of dictionaries to a csv file titled all_evaluations.csv\n",
    "#    Include a column named \"action_item\" with the following logic:\n",
    "#    If the performance_review is \"poor\" the action_item should be \"terminate\"\n",
    "#    If the performance_review is \"excellent\" the action_item should be \"bonus\"\n",
    "#    Otherwise, the action_item should be \"attend GA workshop\"\n",
    "import csv\n",
    "\n",
    "def review_result(review):\n",
    "    if review == \"poor\":\n",
    "        return \"terminate\"\n",
    "    elif review == \"excellent\":\n",
    "        return \"bonus\"\n",
    "    else:\n",
    "        return \"attend GA workshop\"\n",
    "\n",
    "with open(\"./all_evaluations.csv\", \"w\") as file:\n",
    "    fieldnames = [\"first_name\", \"last_name\", \"job_title\", \"hire_date\", \"performance_review\", \"action_item\"]\n",
    "    writer = csv.DictWriter(file, fieldnames=fieldnames)\n",
    "    writer.writeheader()\n",
    "    for employee in employees:\n",
    "        employee[\"action_item\"] = review_result(employee[\"performance_review\"])\n",
    "        writer.writerow(employee)\n",
    "\n"
   ]
  },
  {
   "cell_type": "code",
   "execution_count": 38,
   "metadata": {
    "id": "tbS5Bq7-K_KH"
   },
   "outputs": [],
   "source": [
    "# B. Create a csv file of only employees with \"excellent\" reviews titled bonus_list.csv\n",
    "import csv\n",
    "\n",
    "with open(\"./bonus_list.csv\", \"w\") as file2:\n",
    "    fieldnames = [\"first_name\", \"last_name\", \"job_title\", \"hire_date\", \"performance_review\", \"action_item\"]\n",
    "    writer = csv.DictWriter(file2, fieldnames=fieldnames)\n",
    "    writer.writeheader()\n",
    "    for employee in employees:\n",
    "        if employee[\"performance_review\"] == \"excellent\":\n",
    "            writer.writerow(employee)"
   ]
  },
  {
   "cell_type": "code",
   "execution_count": null,
   "metadata": {
    "id": "rPlOmFA84eZ4"
   },
   "outputs": [],
   "source": [
    "# 6.5 Stretch Goal: Ultimate RPS Challenge\n",
    "# Complete the following game to create csv records of each round's results\n",
    "# imports\n",
    "import os\n",
    "\n",
    "\n",
    "choices = [\"rock\", \"paper\", \"scissors\"]\n",
    "columns = [\"player_choice\", \"computer_choice\", \"result\"]\n",
    "\n",
    "# This is the logic to create the results csv if it doesn't exist already\n",
    "if not os.path.exists(\"./rock_paper_scissors_results.csv\"):\n",
    "    with open(\"./rock_paper_scissors_results.csv\", \"w\") as file:\n",
    "        # A. Use csv.DictWriter to write the column names into the file\n",
    "\n",
    "def store_result(player_choice, computer_choice, result, file):\n",
    "    # B. This function should write game results to the csv file using csv.DictWriter\n",
    "\n",
    "with open(\"./rock_paper_scissors_results.csv\", \"a+\") as file:\n",
    "    current_choice = \"\"\n",
    "    print(\"Welcome to the arena of RPS!\")\n",
    "    while current_choice != \"q\":\n",
    "        # C. Solicit the user's input of the three choices. Include a choice to hit q to quit as well.\n",
    "\n",
    "        # D. Set a variable named computer_choice equal to a random choice from the choices list\n",
    "\n",
    "        if current_choice == \"rock\":\n",
    "            if computer_choice == \"paper\":\n",
    "                store_result(current_choice, computer_choice, \"loss\", file)\n",
    "            elif computer_choice == \"scissors\":\n",
    "                store_result(current_choice, computer_choice, \"win\", file)\n",
    "            else:\n",
    "                store_result(current_choice, computer_choice, \"tie\", file)\n",
    "        elif current_choice == \"paper\":\n",
    "            if computer_choice == \"scissors\":\n",
    "                store_result(current_choice, computer_choice, \"loss\", file)\n",
    "            elif computer_choice == \"rock\":\n",
    "                store_result(current_choice, computer_choice, \"win\", file)\n",
    "            else:\n",
    "                store_result(current_choice, computer_choice, \"tie\", file)\n",
    "        elif current_choice == \"scissors\":\n",
    "            if computer_choice == \"rock\":\n",
    "                store_result(current_choice, computer_choice, \"loss\", file)\n",
    "            elif computer_choice == \"paper\":\n",
    "                store_result(current_choice, computer_choice, \"win\", file)\n",
    "            else:\n",
    "                store_result(current_choice, computer_choice, \"tie\", file)\n",
    "        elif current_choice != \"q\":\n",
    "            print(\"Invalid choice! Try again.\")\n",
    "\n",
    "\n",
    "with open(\"./rock_paper_scissors_results.csv\", \"r\") as file:\n",
    "    wins = 0\n",
    "    losses = 0\n",
    "    # E. Analyze the csv of results by counting how many wins and losses there have been using csv.DictReader\n",
    "    #    Print a message listing the total wins and losses in the csv\n"
   ]
  }
 ],
 "metadata": {
  "colab": {
   "provenance": []
  },
  "kernelspec": {
   "display_name": "Python 3 (ipykernel)",
   "language": "python",
   "name": "python3"
  },
  "language_info": {
   "codemirror_mode": {
    "name": "ipython",
    "version": 3
   },
   "file_extension": ".py",
   "mimetype": "text/x-python",
   "name": "python",
   "nbconvert_exporter": "python",
   "pygments_lexer": "ipython3",
   "version": "3.12.4"
  }
 },
 "nbformat": 4,
 "nbformat_minor": 4
}
